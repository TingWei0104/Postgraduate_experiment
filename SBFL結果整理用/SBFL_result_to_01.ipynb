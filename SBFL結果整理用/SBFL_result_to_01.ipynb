{
 "cells": [
  {
   "cell_type": "code",
   "execution_count": 34,
   "metadata": {},
   "outputs": [
    {
     "name": "stdout",
     "output_type": "stream",
     "text": [
      "[0, 1, 0, 0, 0, 1, 1, 0, 1, 0, 0, 0, 0, 1, 0, 0, 1, 0, 1, 0, 1, 1, 1, 1, 0, 0, 1, 0, 0, 0, 0, 0, 0, 1, 1, 0, 0, 0, 1, 0, 0, 1, 0, 0, 0, 0, 0, 0, 0, 0, 0, 0, 0, 0, 0, 0, 1, 1, 0, 0, 0, 1, 1, 0, 1, 0, 0, 1, 0, 0, 0, 0, 0, 0, 1, 0, 0, 1, 0, 1, 0, 0, 1, 0, 0, 0, 0, 0, 0, 0, 0, 0, 0, 1, 0, 0, 0, 0, 0, 1, 0, 0, 0, 1, 0, 0, 0, 0, 1, 1, 1, 0, 0, 0, 1, 0, 0, 1, 0, 0, 0, 1, 0, 1, 0, 0, 0, 0, 0, 0, 0, 0, 0]\n"
     ]
    }
   ],
   "source": [
    "#輸入想要的project長度，例如chart有26個bug_id就輸入26\n",
    "project_num = 133\n",
    "\n",
    "def generate_binary_sequence(inputs):\n",
    "    # 創建長度為26的列表，初始值為0\n",
    "    result = [0] * project_num\n",
    "    \n",
    "    # 將對應位置設置為1，因為索引從0開始，所以要減1\n",
    "    for num in inputs:\n",
    "        if 1 <= num <= project_num:\n",
    "            result[num - 1] = 1\n",
    "        else:\n",
    "            print(f\"輸入的數字 {num} 不在範圍內\")\n",
    "\n",
    "    return result\n",
    "\n",
    "# 輸入數字\n",
    "input_numbers = [2, 6, 7, 9, 14, 17, 19, 21, 22, 23, 24, 27, 34, 35, 39, 42, 57, 58, 62, 63, 65, 68, 75, 78, 80, 83, 94, 100, 104, 109, 110, 111, 115, 118, 122, 124]\n",
    "\n",
    "# 生成結果\n",
    "binary_sequence = generate_binary_sequence(input_numbers)\n",
    "\n",
    "# 輸出結果\n",
    "print(binary_sequence)"
   ]
  }
 ],
 "metadata": {
  "kernelspec": {
   "display_name": "DL_test_env",
   "language": "python",
   "name": "python3"
  },
  "language_info": {
   "codemirror_mode": {
    "name": "ipython",
    "version": 3
   },
   "file_extension": ".py",
   "mimetype": "text/x-python",
   "name": "python",
   "nbconvert_exporter": "python",
   "pygments_lexer": "ipython3",
   "version": "3.11.8"
  }
 },
 "nbformat": 4,
 "nbformat_minor": 2
}
