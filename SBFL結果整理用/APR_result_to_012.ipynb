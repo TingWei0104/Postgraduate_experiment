{
 "cells": [
  {
   "cell_type": "code",
   "execution_count": 2,
   "metadata": {},
   "outputs": [
    {
     "name": "stdout",
     "output_type": "stream",
     "text": [
      "[0, 1, 0, 2, 0, 1, 0, 0, 0, 0, 1, 0, 2, 0, 0, 0, 0, 1, 0, 0, 1, 1, 0, 0, 1, 0, 0, 0, 0, 0, 1, 0, 0, 0, 1, 0, 0, 1, 0, 1, 0, 0, 0, 0, 0, 2, 0, 0, 1, 0, 0, 0, 0, 0, 0, 0, 0, 0, 1, 0, 0, 2, 0, 0, 0, 0, 0, 0, 0, 2, 1, 0, 2, 0, 0, 0, 0, 0, 0, 0, 0, 0, 0, 0, 1, 2, 0, 0, 0, 0, 0, 0, 0, 0, 0, 0, 0, 0, 1, 0, 0, 2, 1, 0, 0, 2, 1, 0, 1, 0, 0, 0, 0, 0, 1, 0, 1, 0, 0, 0, 0, 0, 0, 0, 0, 1, 0, 0, 0, 0, 0, 0, 0]\n"
     ]
    }
   ],
   "source": [
    "#輸入想要的project長度，例如chart有26個bug_id就輸入26\n",
    "project_num = 133\n",
    "\n",
    "def generate_binary_sequence(inputs, inputs2):\n",
    "    # 創建長度為26的列表，初始值為0\n",
    "    result = [0] * project_num\n",
    "    \n",
    "    # 將對應位置設置為1，因為索引從0開始，所以要減1\n",
    "    #處理plausible\n",
    "    for num in inputs:\n",
    "        if 1 <= num <= project_num:\n",
    "            result[num - 1] = 1\n",
    "        else:\n",
    "            print(f\"輸入的數字 {num} 不在範圍內\")\n",
    "\n",
    "    #處理correct\n",
    "    for num in inputs2:\n",
    "        if 1 <= num <= project_num:\n",
    "            result[num - 1] = 2\n",
    "        else:\n",
    "            print(f\"輸入的數字 {num} 不在範圍內\")\n",
    "\n",
    "    return result\n",
    "\n",
    "# 輸入數字\n",
    "plausible_numbers = [2,6,11,18,21,22,25,31,35,38,40,49,59,71,85,99,103,107,109,115,117,126]\n",
    "correct_numbers = [4,13,46,62,70,73,86,102,106]\n",
    "\n",
    "# 生成結果\n",
    "binary_sequence = generate_binary_sequence(plausible_numbers, correct_numbers)\n",
    "\n",
    "# 輸出結果\n",
    "print(binary_sequence)"
   ]
  }
 ],
 "metadata": {
  "kernelspec": {
   "display_name": "DL_test_env",
   "language": "python",
   "name": "python3"
  },
  "language_info": {
   "codemirror_mode": {
    "name": "ipython",
    "version": 3
   },
   "file_extension": ".py",
   "mimetype": "text/x-python",
   "name": "python",
   "nbconvert_exporter": "python",
   "pygments_lexer": "ipython3",
   "version": "3.11.8"
  }
 },
 "nbformat": 4,
 "nbformat_minor": 2
}
