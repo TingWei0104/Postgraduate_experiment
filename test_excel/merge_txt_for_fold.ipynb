{
 "cells": [
  {
   "cell_type": "code",
   "execution_count": null,
   "metadata": {},
   "outputs": [],
   "source": [
    "#用於將S1~S5整理用的\n",
    "\n",
    "import os\n",
    "import shutil\n",
    "\n",
    "# 定義要合併的文件名\n",
    "file_names = ['S1.txt', 'S2.txt', 'S3.txt', 'S4.txt'] #要合併的txt，作為training set\n",
    "output_folder = 'Fold1' #要存的資料夾\n",
    "output_file = os.path.join(output_folder, 'training.txt') #training set的檔案名稱\n",
    "source_file = 'S5.txt' #作為test set的檔案\n",
    "destination_file = os.path.join(output_folder, 'test.txt') #test set的檔案名稱\n",
    "\n",
    "# 確保資料夾存在\n",
    "os.makedirs(output_folder, exist_ok=True)\n",
    "\n",
    "# 打開輸出文件以寫入\n",
    "with open(output_file, 'w', encoding='utf-8') as outfile:\n",
    "    # 遍歷每個文件\n",
    "    for file_name in file_names:\n",
    "        # 打開每個文件以讀取\n",
    "        with open(file_name, 'r', encoding='utf-8') as infile:\n",
    "            # 讀取內容並寫入輸出文件\n",
    "            outfile.write(infile.read())\n",
    "            #outfile.write('\\n')  # 添加換行符以分隔文件內容\n",
    "\n",
    "# 複製 S5.txt 並重命名為 test.txt\n",
    "shutil.copy(source_file, destination_file)\n",
    "\n",
    "print(f'已成功合併文件到 {output_file}')\n",
    "print(f'已成功複製 {source_file} 到 {destination_file}')"
   ]
  }
 ],
 "metadata": {
  "kernelspec": {
   "display_name": "grade_environment",
   "language": "python",
   "name": "python3"
  },
  "language_info": {
   "name": "python",
   "version": "3.8.19"
  }
 },
 "nbformat": 4,
 "nbformat_minor": 2
}
