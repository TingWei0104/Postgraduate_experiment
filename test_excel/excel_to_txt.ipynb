{
 "cells": [
  {
   "cell_type": "code",
   "execution_count": 1,
   "metadata": {},
   "outputs": [],
   "source": [
    "import pandas as pd\n",
    "import os\n",
    "\n",
    "df = pd.read_excel('test_SBFL_closure.xlsx', engine='openpyxl', sheet_name='Sheet1')\n",
    "\n",
    "txt_file_name = 'SBFL_closure'"
   ]
  },
  {
   "cell_type": "code",
   "execution_count": 2,
   "metadata": {},
   "outputs": [
    {
     "data": {
      "text/plain": [
       "\"\\n#測試\\n\\n#one_cell = df.iat[0,0] #x為row編號，y為column編號\\n#print(one_cell)\\n\\n#one_cell = df.iat[0,8]\\n#print(one_cell)\\n\\n#row_data = df.loc[0].values #列出第一個row的所有結果。\\n#print(df.loc[0])\\n#print(df.loc[0][0])\\n#print(df.loc[0][1])\\n#for cel in row_data:\\n#    print(cel)\\n\\n#print(df)\\nprint(len(df)) #找出共有多少筆資料的方法。\\n\\n#for i in range(1,len(df)+1): #取出總共需要多少的\\n#    print(df.loc[i-1])\\n\\nfor i in range(1,3): #取出總共需要多少的\\n    #print(df.loc[i-1].values) #沒有加上.values，會連同整個df印出，無法使用值，因此加上.values\\n    get_row_data = df.loc[i-1].values\\n    #print(get_row_data[8])\\n    LTR_use_text = str(get_row_data[7]) + ' qid:' +  str(get_row_data[0]) + ' 1:' + str(get_row_data[2]) + ' 2:' + str(get_row_data[3]) + ' 3:' + str(get_row_data[4]) + ' 4:' + str(get_row_data[5]) + ' 5:' + str(get_row_data[6]) + ' #' + str(get_row_data[8])\\n    print(LTR_use_text)\\n\\n\""
      ]
     },
     "execution_count": 2,
     "metadata": {},
     "output_type": "execute_result"
    }
   ],
   "source": [
    "'''\n",
    "#測試\n",
    "\n",
    "#one_cell = df.iat[0,0] #x為row編號，y為column編號\n",
    "#print(one_cell)\n",
    "\n",
    "#one_cell = df.iat[0,8]\n",
    "#print(one_cell)\n",
    "\n",
    "#row_data = df.loc[0].values #列出第一個row的所有結果。\n",
    "#print(df.loc[0])\n",
    "#print(df.loc[0][0])\n",
    "#print(df.loc[0][1])\n",
    "#for cel in row_data:\n",
    "#    print(cel)\n",
    "\n",
    "#print(df)\n",
    "print(len(df)) #找出共有多少筆資料的方法。\n",
    "\n",
    "#for i in range(1,len(df)+1): #取出總共需要多少的\n",
    "#    print(df.loc[i-1])\n",
    "\n",
    "for i in range(1,3): #取出總共需要多少的\n",
    "    #print(df.loc[i-1].values) #沒有加上.values，會連同整個df印出，無法使用值，因此加上.values\n",
    "    get_row_data = df.loc[i-1].values\n",
    "    #print(get_row_data[8])\n",
    "    LTR_use_text = str(get_row_data[7]) + ' qid:' +  str(get_row_data[0]) + ' 1:' + str(get_row_data[2]) + ' 2:' + str(get_row_data[3]) + ' 3:' + str(get_row_data[4]) + ' 4:' + str(get_row_data[5]) + ' 5:' + str(get_row_data[6]) + ' #' + str(get_row_data[8])\n",
    "    print(LTR_use_text)\n",
    "\n",
    "'''"
   ]
  },
  {
   "cell_type": "code",
   "execution_count": 3,
   "metadata": {},
   "outputs": [],
   "source": [
    "#建立要使用的txt檔案\n",
    "open(txt_file_name + '.txt', 'w').close()"
   ]
  },
  {
   "cell_type": "code",
   "execution_count": 4,
   "metadata": {},
   "outputs": [],
   "source": [
    "for i in range(1,len(df)+1): #取出總共需要多少的\n",
    "    get_row_data = df.loc[i-1].values #取出目前row的資料\n",
    "\n",
    "    #根據LTR所需要的格式做調整\n",
    "    #將excel中的 'correct patch/lable' 作為label在前面顯示，因此取get_row_data[7]。\n",
    "    LTR_use_text = str(get_row_data[7]) + ' qid:' +  str(get_row_data[0]) + ' 1:' + str(get_row_data[2]) + ' 2:' + str(get_row_data[3]) + ' 3:' + str(get_row_data[4]) + ' 4:' + str(get_row_data[5]) + ' 5:' + str(get_row_data[6]) + ' #' + str(get_row_data[8]) + '\\n'\n",
    "\n",
    "    #打開txt將內容輸入到txt中。\n",
    "    #'a'表示往後寫不覆蓋\n",
    "    f = open(txt_file_name + '.txt', 'a')\n",
    "    f.write(LTR_use_text)\n",
    "\n",
    "    #print(LTR_use_text)\n",
    "    f.close()"
   ]
  }
 ],
 "metadata": {
  "kernelspec": {
   "display_name": "DL_test_env",
   "language": "python",
   "name": "python3"
  },
  "language_info": {
   "codemirror_mode": {
    "name": "ipython",
    "version": 3
   },
   "file_extension": ".py",
   "mimetype": "text/x-python",
   "name": "python",
   "nbconvert_exporter": "python",
   "pygments_lexer": "ipython3",
   "version": "3.11.8"
  }
 },
 "nbformat": 4,
 "nbformat_minor": 2
}
