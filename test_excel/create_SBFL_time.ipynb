{
 "cells": [
  {
   "cell_type": "code",
   "execution_count": 1,
   "metadata": {},
   "outputs": [],
   "source": [
    "import pandas as pd"
   ]
  },
  {
   "cell_type": "code",
   "execution_count": 2,
   "metadata": {},
   "outputs": [],
   "source": [
    "#資料準備\n",
    "create_file_name = 'test_SBFL_time' #要輸出的excel名稱\n",
    "id_start = 40000 #id從幾號開始\n",
    "bugid_num = 27 #輸入有多少個bug\n",
    "project_is = 'time'\n",
    "SBFLlist = ['DStar', 'Jaccard', 'Ochiai', 'Tarantula'] #要使用的SBFL\n",
    "APRlist = ['ACS', 'Nopol', 'SimFix', 'TBar'] #要使用的APR\n",
    "Top1 = [\n",
    "    [1, 0, 1, 0, 0, 0, 0, 0, 0, 0, 0, 0, 0, 0, 1, 0, 1, 0, 0, 0, 0, 0, 0, 0, 0, 0, 0], #DStar\n",
    "    [0, 0, 1, 0, 0, 0, 0, 0, 0, 0, 0, 0, 0, 0, 0, 0, 1, 0, 0, 0, 0, 0, 0, 0, 0, 0, 0], #Jaccard\n",
    "    [0, 0, 1, 0, 0, 0, 0, 0, 0, 0, 0, 0, 0, 0, 0, 0, 1, 0, 0, 0, 0, 0, 0, 0, 0, 0, 0], #Ochiai\n",
    "    [0, 0, 1, 0, 0, 0, 0, 0, 0, 0, 0, 0, 0, 0, 0, 0, 1, 0, 0, 0, 0, 0, 0, 0, 0, 0, 0]  #Tarantula\n",
    "]\n",
    "\n",
    "Top3 = [\n",
    "    [1, 1, 1, 0, 1, 1, 0, 0, 1, 0, 0, 0, 0, 1, 1, 0, 1, 1, 0, 0, 1, 0, 0, 0, 0, 0, 0], #DStar\n",
    "    [1, 1, 1, 0, 0, 1, 0, 0, 1, 0, 0, 0, 0, 1, 1, 0, 1, 1, 0, 0, 1, 0, 0, 0, 0, 0, 0], #Jaccard\n",
    "    [1, 1, 1, 0, 0, 1, 0, 0, 1, 0, 0, 1, 0, 1, 1, 0, 1, 1, 0, 0, 1, 0, 0, 0, 0, 0, 0], #Ochiai\n",
    "    [1, 1, 1, 0, 0, 0, 0, 0, 1, 0, 0, 1, 0, 1, 1, 0, 1, 1, 0, 0, 0, 0, 0, 0, 0, 0, 0]  #Tarantula\n",
    "]\n",
    "\n",
    "Top5 = [\n",
    "    [1, 1, 1, 0, 1, 1, 1, 1, 0, 0, 0, 0, 0, 1, 1, 0, 1, 1, 0, 1, 1, 1, 0, 0, 0, 0, 0], #DStar\n",
    "    [1, 1, 1, 0, 0, 1, 0, 0, 1, 0, 0, 0, 0, 1, 1, 0, 1, 1, 0, 1, 1, 1, 0, 0, 0, 0, 0], #Jaccard\n",
    "    [1, 1, 1, 0, 0, 1, 0, 0, 1, 0, 0, 1, 0, 1, 1, 0, 1, 1, 0, 0, 1, 1, 0, 0, 0, 0, 0], #Ochiai\n",
    "    [1, 1, 1, 0, 0, 0, 0, 0, 1, 0, 0, 0, 0, 1, 1, 0, 1, 1, 0, 0, 1, 1, 0, 0, 0, 0, 0]  #Tarantula\n",
    "]\n",
    "\n",
    "Top10 = [\n",
    "    [1, 1, 1, 0, 1, 1, 1, 0, 1, 0, 0, 0, 0, 1, 1, 1, 1, 1, 0, 1, 1, 1, 0, 0, 0, 0, 0], #DStar\n",
    "    [1, 1, 1, 0, 0, 1, 0, 0, 1, 0, 0, 1, 0, 1, 1, 1, 1, 1, 0, 1, 1, 1, 0, 0, 0, 0, 0], #Jaccard\n",
    "    [1, 1, 1, 0, 0, 1, 0, 0, 1, 0, 0, 1, 0, 1, 1, 1, 1, 1, 0, 1, 1, 1, 0, 0, 0, 0, 0], #Ochiai\n",
    "    [1, 1, 1, 0, 0, 0, 0, 0, 1, 0, 0, 1, 0, 1, 1, 1, 1, 1, 0, 1, 1, 1, 0, 0, 0, 0, 0]  #Tarantula\n",
    "]\n",
    "\n",
    "#表示APR的結果有沒有正確，\n",
    "#0表示沒生成patch\n",
    "#1表示有生成但是沒成功\n",
    "#2表示有生成且成功\n",
    "APR_result = [\n",
    "    [0, 0, 0, 0, 0, 0, 0, 0, 0, 0, 0, 0, 0, 0, 2, 0, 0, 0, 0, 0, 0, 0, 0, 0, 0, 0, 0], #ACS\n",
    "    [0, 0, 0, 1, 0, 0, 1, 0, 0, 0, 1, 1, 0, 1, 0, 1, 0, 1, 2, 0, 0, 0, 0, 0, 0, 0, 0], #Nopol\n",
    "    [0, 0, 0, 0, 0, 0, 1, 0, 0, 0, 1, 0, 0, 0, 0, 0, 0, 0, 0, 0, 0, 0, 0, 0, 0, 0, 0], #SimFix\n",
    "    [0, 0, 0, 1, 0, 0, 1, 0, 0, 0, 0, 0, 0, 0, 0, 0, 1, 2, 2, 0, 0, 0, 0, 0, 0, 1, 0]  #TBar\n",
    "]"
   ]
  },
  {
   "cell_type": "code",
   "execution_count": 3,
   "metadata": {},
   "outputs": [
    {
     "name": "stdout",
     "output_type": "stream",
     "text": [
      "DStar\n",
      "Jaccard\n",
      "Ochiai\n",
      "Tarantula\n"
     ]
    }
   ],
   "source": [
    "for i in SBFLlist:\n",
    "    print(i)"
   ]
  },
  {
   "cell_type": "code",
   "execution_count": 4,
   "metadata": {},
   "outputs": [],
   "source": [
    "#用於最後寫入用\n",
    "data = {\n",
    "    'bugid': [],\n",
    "    'combine': [],\n",
    "    'top-1': [],\n",
    "    'top-3': [],\n",
    "    'top-5': [],\n",
    "    'top-10': [],\n",
    "    '是否生成(0)/正確(1, 2)': [],\n",
    "    'correct patch/lable': [],\n",
    "    '標示用，不參與訓練': [],\n",
    "    '補充說明': []\n",
    "}\n",
    "#print(data['bugid'][0])"
   ]
  },
  {
   "cell_type": "code",
   "execution_count": 5,
   "metadata": {},
   "outputs": [
    {
     "name": "stdout",
     "output_type": "stream",
     "text": [
      "[40001, 40001, 40001, 40001, 40001, 40001, 40001, 40001, 40001, 40001, 40001, 40001, 40001, 40001, 40001, 40001, 40002, 40002, 40002, 40002, 40002, 40002, 40002, 40002, 40002, 40002, 40002, 40002, 40002, 40002, 40002, 40002, 40003, 40003, 40003, 40003, 40003, 40003, 40003, 40003, 40003, 40003, 40003, 40003, 40003, 40003, 40003, 40003, 40004, 40004, 40004, 40004, 40004, 40004, 40004, 40004, 40004, 40004, 40004, 40004, 40004, 40004, 40004, 40004, 40005, 40005, 40005, 40005, 40005, 40005, 40005, 40005, 40005, 40005, 40005, 40005, 40005, 40005, 40005, 40005, 40006, 40006, 40006, 40006, 40006, 40006, 40006, 40006, 40006, 40006, 40006, 40006, 40006, 40006, 40006, 40006, 40007, 40007, 40007, 40007, 40007, 40007, 40007, 40007, 40007, 40007, 40007, 40007, 40007, 40007, 40007, 40007, 40008, 40008, 40008, 40008, 40008, 40008, 40008, 40008, 40008, 40008, 40008, 40008, 40008, 40008, 40008, 40008, 40009, 40009, 40009, 40009, 40009, 40009, 40009, 40009, 40009, 40009, 40009, 40009, 40009, 40009, 40009, 40009, 40010, 40010, 40010, 40010, 40010, 40010, 40010, 40010, 40010, 40010, 40010, 40010, 40010, 40010, 40010, 40010, 40011, 40011, 40011, 40011, 40011, 40011, 40011, 40011, 40011, 40011, 40011, 40011, 40011, 40011, 40011, 40011, 40012, 40012, 40012, 40012, 40012, 40012, 40012, 40012, 40012, 40012, 40012, 40012, 40012, 40012, 40012, 40012, 40013, 40013, 40013, 40013, 40013, 40013, 40013, 40013, 40013, 40013, 40013, 40013, 40013, 40013, 40013, 40013, 40014, 40014, 40014, 40014, 40014, 40014, 40014, 40014, 40014, 40014, 40014, 40014, 40014, 40014, 40014, 40014, 40015, 40015, 40015, 40015, 40015, 40015, 40015, 40015, 40015, 40015, 40015, 40015, 40015, 40015, 40015, 40015, 40016, 40016, 40016, 40016, 40016, 40016, 40016, 40016, 40016, 40016, 40016, 40016, 40016, 40016, 40016, 40016, 40017, 40017, 40017, 40017, 40017, 40017, 40017, 40017, 40017, 40017, 40017, 40017, 40017, 40017, 40017, 40017, 40018, 40018, 40018, 40018, 40018, 40018, 40018, 40018, 40018, 40018, 40018, 40018, 40018, 40018, 40018, 40018, 40019, 40019, 40019, 40019, 40019, 40019, 40019, 40019, 40019, 40019, 40019, 40019, 40019, 40019, 40019, 40019, 40020, 40020, 40020, 40020, 40020, 40020, 40020, 40020, 40020, 40020, 40020, 40020, 40020, 40020, 40020, 40020, 40021, 40021, 40021, 40021, 40021, 40021, 40021, 40021, 40021, 40021, 40021, 40021, 40021, 40021, 40021, 40021, 40022, 40022, 40022, 40022, 40022, 40022, 40022, 40022, 40022, 40022, 40022, 40022, 40022, 40022, 40022, 40022, 40023, 40023, 40023, 40023, 40023, 40023, 40023, 40023, 40023, 40023, 40023, 40023, 40023, 40023, 40023, 40023, 40024, 40024, 40024, 40024, 40024, 40024, 40024, 40024, 40024, 40024, 40024, 40024, 40024, 40024, 40024, 40024, 40025, 40025, 40025, 40025, 40025, 40025, 40025, 40025, 40025, 40025, 40025, 40025, 40025, 40025, 40025, 40025, 40026, 40026, 40026, 40026, 40026, 40026, 40026, 40026, 40026, 40026, 40026, 40026, 40026, 40026, 40026, 40026, 40027, 40027, 40027, 40027, 40027, 40027, 40027, 40027, 40027, 40027, 40027, 40027, 40027, 40027, 40027, 40027]\n",
      "432\n",
      "[1, 2, 3, 4, 5, 6, 7, 8, 9, 10, 11, 12, 13, 14, 15, 16, 1, 2, 3, 4, 5, 6, 7, 8, 9, 10, 11, 12, 13, 14, 15, 16, 1, 2, 3, 4, 5, 6, 7, 8, 9, 10, 11, 12, 13, 14, 15, 16, 1, 2, 3, 4, 5, 6, 7, 8, 9, 10, 11, 12, 13, 14, 15, 16, 1, 2, 3, 4, 5, 6, 7, 8, 9, 10, 11, 12, 13, 14, 15, 16, 1, 2, 3, 4, 5, 6, 7, 8, 9, 10, 11, 12, 13, 14, 15, 16, 1, 2, 3, 4, 5, 6, 7, 8, 9, 10, 11, 12, 13, 14, 15, 16, 1, 2, 3, 4, 5, 6, 7, 8, 9, 10, 11, 12, 13, 14, 15, 16, 1, 2, 3, 4, 5, 6, 7, 8, 9, 10, 11, 12, 13, 14, 15, 16, 1, 2, 3, 4, 5, 6, 7, 8, 9, 10, 11, 12, 13, 14, 15, 16, 1, 2, 3, 4, 5, 6, 7, 8, 9, 10, 11, 12, 13, 14, 15, 16, 1, 2, 3, 4, 5, 6, 7, 8, 9, 10, 11, 12, 13, 14, 15, 16, 1, 2, 3, 4, 5, 6, 7, 8, 9, 10, 11, 12, 13, 14, 15, 16, 1, 2, 3, 4, 5, 6, 7, 8, 9, 10, 11, 12, 13, 14, 15, 16, 1, 2, 3, 4, 5, 6, 7, 8, 9, 10, 11, 12, 13, 14, 15, 16, 1, 2, 3, 4, 5, 6, 7, 8, 9, 10, 11, 12, 13, 14, 15, 16, 1, 2, 3, 4, 5, 6, 7, 8, 9, 10, 11, 12, 13, 14, 15, 16, 1, 2, 3, 4, 5, 6, 7, 8, 9, 10, 11, 12, 13, 14, 15, 16, 1, 2, 3, 4, 5, 6, 7, 8, 9, 10, 11, 12, 13, 14, 15, 16, 1, 2, 3, 4, 5, 6, 7, 8, 9, 10, 11, 12, 13, 14, 15, 16, 1, 2, 3, 4, 5, 6, 7, 8, 9, 10, 11, 12, 13, 14, 15, 16, 1, 2, 3, 4, 5, 6, 7, 8, 9, 10, 11, 12, 13, 14, 15, 16, 1, 2, 3, 4, 5, 6, 7, 8, 9, 10, 11, 12, 13, 14, 15, 16, 1, 2, 3, 4, 5, 6, 7, 8, 9, 10, 11, 12, 13, 14, 15, 16, 1, 2, 3, 4, 5, 6, 7, 8, 9, 10, 11, 12, 13, 14, 15, 16, 1, 2, 3, 4, 5, 6, 7, 8, 9, 10, 11, 12, 13, 14, 15, 16, 1, 2, 3, 4, 5, 6, 7, 8, 9, 10, 11, 12, 13, 14, 15, 16]\n",
      "432\n",
      "[1, 1, 1, 1, 0, 0, 0, 0, 0, 0, 0, 0, 0, 0, 0, 0, 0, 0, 0, 0, 0, 0, 0, 0, 0, 0, 0, 0, 0, 0, 0, 0, 1, 1, 1, 1, 1, 1, 1, 1, 1, 1, 1, 1, 1, 1, 1, 1, 0, 0, 0, 0, 0, 0, 0, 0, 0, 0, 0, 0, 0, 0, 0, 0, 0, 0, 0, 0, 0, 0, 0, 0, 0, 0, 0, 0, 0, 0, 0, 0, 0, 0, 0, 0, 0, 0, 0, 0, 0, 0, 0, 0, 0, 0, 0, 0, 0, 0, 0, 0, 0, 0, 0, 0, 0, 0, 0, 0, 0, 0, 0, 0, 0, 0, 0, 0, 0, 0, 0, 0, 0, 0, 0, 0, 0, 0, 0, 0, 0, 0, 0, 0, 0, 0, 0, 0, 0, 0, 0, 0, 0, 0, 0, 0, 0, 0, 0, 0, 0, 0, 0, 0, 0, 0, 0, 0, 0, 0, 0, 0, 0, 0, 0, 0, 0, 0, 0, 0, 0, 0, 0, 0, 0, 0, 0, 0, 0, 0, 0, 0, 0, 0, 0, 0, 0, 0, 0, 0, 0, 0, 0, 0, 0, 0, 0, 0, 0, 0, 0, 0, 0, 0, 0, 0, 0, 0, 0, 0, 0, 0, 0, 0, 0, 0, 0, 0, 0, 0, 0, 0, 0, 0, 0, 0, 1, 1, 1, 1, 0, 0, 0, 0, 0, 0, 0, 0, 0, 0, 0, 0, 0, 0, 0, 0, 0, 0, 0, 0, 0, 0, 0, 0, 0, 0, 0, 0, 1, 1, 1, 1, 1, 1, 1, 1, 1, 1, 1, 1, 1, 1, 1, 1, 0, 0, 0, 0, 0, 0, 0, 0, 0, 0, 0, 0, 0, 0, 0, 0, 0, 0, 0, 0, 0, 0, 0, 0, 0, 0, 0, 0, 0, 0, 0, 0, 0, 0, 0, 0, 0, 0, 0, 0, 0, 0, 0, 0, 0, 0, 0, 0, 0, 0, 0, 0, 0, 0, 0, 0, 0, 0, 0, 0, 0, 0, 0, 0, 0, 0, 0, 0, 0, 0, 0, 0, 0, 0, 0, 0, 0, 0, 0, 0, 0, 0, 0, 0, 0, 0, 0, 0, 0, 0, 0, 0, 0, 0, 0, 0, 0, 0, 0, 0, 0, 0, 0, 0, 0, 0, 0, 0, 0, 0, 0, 0, 0, 0, 0, 0, 0, 0, 0, 0, 0, 0, 0, 0, 0, 0, 0, 0, 0, 0, 0, 0, 0, 0, 0, 0, 0, 0, 0, 0, 0, 0, 0, 0, 0, 0, 0, 0, 0, 0, 0, 0, 0, 0, 0, 0, 0, 0, 0, 0]\n",
      "432\n",
      "[1, 1, 1, 1, 1, 1, 1, 1, 1, 1, 1, 1, 1, 1, 1, 1, 1, 1, 1, 1, 1, 1, 1, 1, 1, 1, 1, 1, 1, 1, 1, 1, 1, 1, 1, 1, 1, 1, 1, 1, 1, 1, 1, 1, 1, 1, 1, 1, 0, 0, 0, 0, 0, 0, 0, 0, 0, 0, 0, 0, 0, 0, 0, 0, 1, 1, 1, 1, 0, 0, 0, 0, 0, 0, 0, 0, 0, 0, 0, 0, 1, 1, 1, 1, 1, 1, 1, 1, 1, 1, 1, 1, 0, 0, 0, 0, 0, 0, 0, 0, 0, 0, 0, 0, 0, 0, 0, 0, 0, 0, 0, 0, 0, 0, 0, 0, 0, 0, 0, 0, 0, 0, 0, 0, 0, 0, 0, 0, 1, 1, 1, 1, 1, 1, 1, 1, 1, 1, 1, 1, 1, 1, 1, 1, 0, 0, 0, 0, 0, 0, 0, 0, 0, 0, 0, 0, 0, 0, 0, 0, 0, 0, 0, 0, 0, 0, 0, 0, 0, 0, 0, 0, 0, 0, 0, 0, 0, 0, 0, 0, 0, 0, 0, 0, 1, 1, 1, 1, 1, 1, 1, 1, 0, 0, 0, 0, 0, 0, 0, 0, 0, 0, 0, 0, 0, 0, 0, 0, 1, 1, 1, 1, 1, 1, 1, 1, 1, 1, 1, 1, 1, 1, 1, 1, 1, 1, 1, 1, 1, 1, 1, 1, 1, 1, 1, 1, 1, 1, 1, 1, 0, 0, 0, 0, 0, 0, 0, 0, 0, 0, 0, 0, 0, 0, 0, 0, 1, 1, 1, 1, 1, 1, 1, 1, 1, 1, 1, 1, 1, 1, 1, 1, 1, 1, 1, 1, 1, 1, 1, 1, 1, 1, 1, 1, 1, 1, 1, 1, 0, 0, 0, 0, 0, 0, 0, 0, 0, 0, 0, 0, 0, 0, 0, 0, 0, 0, 0, 0, 0, 0, 0, 0, 0, 0, 0, 0, 0, 0, 0, 0, 1, 1, 1, 1, 1, 1, 1, 1, 1, 1, 1, 1, 0, 0, 0, 0, 0, 0, 0, 0, 0, 0, 0, 0, 0, 0, 0, 0, 0, 0, 0, 0, 0, 0, 0, 0, 0, 0, 0, 0, 0, 0, 0, 0, 0, 0, 0, 0, 0, 0, 0, 0, 0, 0, 0, 0, 0, 0, 0, 0, 0, 0, 0, 0, 0, 0, 0, 0, 0, 0, 0, 0, 0, 0, 0, 0, 0, 0, 0, 0, 0, 0, 0, 0, 0, 0, 0, 0, 0, 0, 0, 0, 0, 0, 0, 0, 0, 0, 0, 0, 0, 0, 0, 0, 0, 0, 0, 0, 0, 0, 0, 0]\n",
      "432\n",
      "[1, 1, 1, 1, 1, 1, 1, 1, 1, 1, 1, 1, 1, 1, 1, 1, 1, 1, 1, 1, 1, 1, 1, 1, 1, 1, 1, 1, 1, 1, 1, 1, 1, 1, 1, 1, 1, 1, 1, 1, 1, 1, 1, 1, 1, 1, 1, 1, 0, 0, 0, 0, 0, 0, 0, 0, 0, 0, 0, 0, 0, 0, 0, 0, 1, 1, 1, 1, 0, 0, 0, 0, 0, 0, 0, 0, 0, 0, 0, 0, 1, 1, 1, 1, 1, 1, 1, 1, 1, 1, 1, 1, 0, 0, 0, 0, 1, 1, 1, 1, 0, 0, 0, 0, 0, 0, 0, 0, 0, 0, 0, 0, 1, 1, 1, 1, 0, 0, 0, 0, 0, 0, 0, 0, 0, 0, 0, 0, 0, 0, 0, 0, 1, 1, 1, 1, 1, 1, 1, 1, 1, 1, 1, 1, 0, 0, 0, 0, 0, 0, 0, 0, 0, 0, 0, 0, 0, 0, 0, 0, 0, 0, 0, 0, 0, 0, 0, 0, 0, 0, 0, 0, 0, 0, 0, 0, 0, 0, 0, 0, 0, 0, 0, 0, 1, 1, 1, 1, 0, 0, 0, 0, 0, 0, 0, 0, 0, 0, 0, 0, 0, 0, 0, 0, 0, 0, 0, 0, 1, 1, 1, 1, 1, 1, 1, 1, 1, 1, 1, 1, 1, 1, 1, 1, 1, 1, 1, 1, 1, 1, 1, 1, 1, 1, 1, 1, 1, 1, 1, 1, 0, 0, 0, 0, 0, 0, 0, 0, 0, 0, 0, 0, 0, 0, 0, 0, 1, 1, 1, 1, 1, 1, 1, 1, 1, 1, 1, 1, 1, 1, 1, 1, 1, 1, 1, 1, 1, 1, 1, 1, 1, 1, 1, 1, 1, 1, 1, 1, 0, 0, 0, 0, 0, 0, 0, 0, 0, 0, 0, 0, 0, 0, 0, 0, 1, 1, 1, 1, 1, 1, 1, 1, 0, 0, 0, 0, 0, 0, 0, 0, 1, 1, 1, 1, 1, 1, 1, 1, 1, 1, 1, 1, 1, 1, 1, 1, 1, 1, 1, 1, 1, 1, 1, 1, 1, 1, 1, 1, 1, 1, 1, 1, 0, 0, 0, 0, 0, 0, 0, 0, 0, 0, 0, 0, 0, 0, 0, 0, 0, 0, 0, 0, 0, 0, 0, 0, 0, 0, 0, 0, 0, 0, 0, 0, 0, 0, 0, 0, 0, 0, 0, 0, 0, 0, 0, 0, 0, 0, 0, 0, 0, 0, 0, 0, 0, 0, 0, 0, 0, 0, 0, 0, 0, 0, 0, 0, 0, 0, 0, 0, 0, 0, 0, 0, 0, 0, 0, 0, 0, 0, 0, 0]\n",
      "432\n",
      "[1, 1, 1, 1, 1, 1, 1, 1, 1, 1, 1, 1, 1, 1, 1, 1, 1, 1, 1, 1, 1, 1, 1, 1, 1, 1, 1, 1, 1, 1, 1, 1, 1, 1, 1, 1, 1, 1, 1, 1, 1, 1, 1, 1, 1, 1, 1, 1, 0, 0, 0, 0, 0, 0, 0, 0, 0, 0, 0, 0, 0, 0, 0, 0, 1, 1, 1, 1, 0, 0, 0, 0, 0, 0, 0, 0, 0, 0, 0, 0, 1, 1, 1, 1, 1, 1, 1, 1, 1, 1, 1, 1, 0, 0, 0, 0, 1, 1, 1, 1, 0, 0, 0, 0, 0, 0, 0, 0, 0, 0, 0, 0, 0, 0, 0, 0, 0, 0, 0, 0, 0, 0, 0, 0, 0, 0, 0, 0, 1, 1, 1, 1, 1, 1, 1, 1, 1, 1, 1, 1, 1, 1, 1, 1, 0, 0, 0, 0, 0, 0, 0, 0, 0, 0, 0, 0, 0, 0, 0, 0, 0, 0, 0, 0, 0, 0, 0, 0, 0, 0, 0, 0, 0, 0, 0, 0, 0, 0, 0, 0, 1, 1, 1, 1, 1, 1, 1, 1, 1, 1, 1, 1, 0, 0, 0, 0, 0, 0, 0, 0, 0, 0, 0, 0, 0, 0, 0, 0, 1, 1, 1, 1, 1, 1, 1, 1, 1, 1, 1, 1, 1, 1, 1, 1, 1, 1, 1, 1, 1, 1, 1, 1, 1, 1, 1, 1, 1, 1, 1, 1, 1, 1, 1, 1, 1, 1, 1, 1, 1, 1, 1, 1, 1, 1, 1, 1, 1, 1, 1, 1, 1, 1, 1, 1, 1, 1, 1, 1, 1, 1, 1, 1, 1, 1, 1, 1, 1, 1, 1, 1, 1, 1, 1, 1, 1, 1, 1, 1, 0, 0, 0, 0, 0, 0, 0, 0, 0, 0, 0, 0, 0, 0, 0, 0, 1, 1, 1, 1, 1, 1, 1, 1, 1, 1, 1, 1, 1, 1, 1, 1, 1, 1, 1, 1, 1, 1, 1, 1, 1, 1, 1, 1, 1, 1, 1, 1, 1, 1, 1, 1, 1, 1, 1, 1, 1, 1, 1, 1, 1, 1, 1, 1, 0, 0, 0, 0, 0, 0, 0, 0, 0, 0, 0, 0, 0, 0, 0, 0, 0, 0, 0, 0, 0, 0, 0, 0, 0, 0, 0, 0, 0, 0, 0, 0, 0, 0, 0, 0, 0, 0, 0, 0, 0, 0, 0, 0, 0, 0, 0, 0, 0, 0, 0, 0, 0, 0, 0, 0, 0, 0, 0, 0, 0, 0, 0, 0, 0, 0, 0, 0, 0, 0, 0, 0, 0, 0, 0, 0, 0, 0, 0, 0]\n",
      "432\n",
      "[0, 0, 0, 0, 0, 0, 0, 0, 0, 0, 0, 0, 0, 0, 0, 0, 0, 0, 0, 0, 0, 0, 0, 0, 0, 0, 0, 0, 0, 0, 0, 0, 0, 0, 0, 0, 0, 0, 0, 0, 0, 0, 0, 0, 0, 0, 0, 0, 0, 1, 0, 1, 0, 1, 0, 1, 0, 1, 0, 1, 0, 1, 0, 1, 0, 0, 0, 0, 0, 0, 0, 0, 0, 0, 0, 0, 0, 0, 0, 0, 0, 0, 0, 0, 0, 0, 0, 0, 0, 0, 0, 0, 0, 0, 0, 0, 0, 1, 1, 1, 0, 1, 1, 1, 0, 1, 1, 1, 0, 1, 1, 1, 0, 0, 0, 0, 0, 0, 0, 0, 0, 0, 0, 0, 0, 0, 0, 0, 0, 0, 0, 0, 0, 0, 0, 0, 0, 0, 0, 0, 0, 0, 0, 0, 0, 0, 0, 0, 0, 0, 0, 0, 0, 0, 0, 0, 0, 0, 0, 0, 0, 1, 1, 0, 0, 1, 1, 0, 0, 1, 1, 0, 0, 1, 1, 0, 0, 1, 0, 0, 0, 1, 0, 0, 0, 1, 0, 0, 0, 1, 0, 0, 0, 0, 0, 0, 0, 0, 0, 0, 0, 0, 0, 0, 0, 0, 0, 0, 0, 1, 0, 0, 0, 1, 0, 0, 0, 1, 0, 0, 0, 1, 0, 0, 2, 0, 0, 0, 2, 0, 0, 0, 2, 0, 0, 0, 2, 0, 0, 0, 0, 1, 0, 0, 0, 1, 0, 0, 0, 1, 0, 0, 0, 1, 0, 0, 0, 0, 0, 1, 0, 0, 0, 1, 0, 0, 0, 1, 0, 0, 0, 1, 0, 1, 0, 2, 0, 1, 0, 2, 0, 1, 0, 2, 0, 1, 0, 2, 0, 2, 0, 2, 0, 2, 0, 2, 0, 2, 0, 2, 0, 2, 0, 2, 0, 0, 0, 0, 0, 0, 0, 0, 0, 0, 0, 0, 0, 0, 0, 0, 0, 0, 0, 0, 0, 0, 0, 0, 0, 0, 0, 0, 0, 0, 0, 0, 0, 0, 0, 0, 0, 0, 0, 0, 0, 0, 0, 0, 0, 0, 0, 0, 0, 0, 0, 0, 0, 0, 0, 0, 0, 0, 0, 0, 0, 0, 0, 0, 0, 0, 0, 0, 0, 0, 0, 0, 0, 0, 0, 0, 0, 0, 0, 0, 0, 0, 0, 0, 0, 0, 0, 0, 0, 0, 0, 0, 0, 0, 0, 0, 0, 0, 0, 1, 0, 0, 0, 1, 0, 0, 0, 1, 0, 0, 0, 1, 0, 0, 0, 0, 0, 0, 0, 0, 0, 0, 0, 0, 0, 0, 0, 0]\n",
      "432\n",
      "[0, 0, 0, 0, 0, 0, 0, 0, 0, 0, 0, 0, 0, 0, 0, 0, 0, 0, 0, 0, 0, 0, 0, 0, 0, 0, 0, 0, 0, 0, 0, 0, 0, 0, 0, 0, 0, 0, 0, 0, 0, 0, 0, 0, 0, 0, 0, 0, 0, 0, 0, 0, 0, 0, 0, 0, 0, 0, 0, 0, 0, 0, 0, 0, 0, 0, 0, 0, 0, 0, 0, 0, 0, 0, 0, 0, 0, 0, 0, 0, 0, 0, 0, 0, 0, 0, 0, 0, 0, 0, 0, 0, 0, 0, 0, 0, 0, 0, 0, 0, 0, 0, 0, 0, 0, 0, 0, 0, 0, 0, 0, 0, 0, 0, 0, 0, 0, 0, 0, 0, 0, 0, 0, 0, 0, 0, 0, 0, 0, 0, 0, 0, 0, 0, 0, 0, 0, 0, 0, 0, 0, 0, 0, 0, 0, 0, 0, 0, 0, 0, 0, 0, 0, 0, 0, 0, 0, 0, 0, 0, 0, 0, 0, 0, 0, 0, 0, 0, 0, 0, 0, 0, 0, 0, 0, 0, 0, 0, 0, 0, 0, 0, 0, 0, 0, 0, 0, 0, 0, 0, 0, 0, 0, 0, 0, 0, 0, 0, 0, 0, 0, 0, 0, 0, 0, 0, 0, 0, 0, 0, 0, 0, 0, 0, 0, 0, 0, 0, 0, 0, 0, 0, 0, 0, 1, 0, 0, 0, 1, 0, 0, 0, 1, 0, 0, 0, 1, 0, 0, 0, 0, 0, 0, 0, 0, 0, 0, 0, 0, 0, 0, 0, 0, 0, 0, 0, 0, 0, 0, 0, 0, 0, 0, 0, 0, 0, 0, 0, 0, 0, 0, 0, 0, 0, 0, 1, 0, 0, 0, 1, 0, 0, 0, 1, 0, 0, 0, 1, 0, 1, 0, 1, 0, 1, 0, 1, 0, 1, 0, 1, 0, 1, 0, 1, 0, 0, 0, 0, 0, 0, 0, 0, 0, 0, 0, 0, 0, 0, 0, 0, 0, 0, 0, 0, 0, 0, 0, 0, 0, 0, 0, 0, 0, 0, 0, 0, 0, 0, 0, 0, 0, 0, 0, 0, 0, 0, 0, 0, 0, 0, 0, 0, 0, 0, 0, 0, 0, 0, 0, 0, 0, 0, 0, 0, 0, 0, 0, 0, 0, 0, 0, 0, 0, 0, 0, 0, 0, 0, 0, 0, 0, 0, 0, 0, 0, 0, 0, 0, 0, 0, 0, 0, 0, 0, 0, 0, 0, 0, 0, 0, 0, 0, 0, 0, 0, 0, 0, 0, 0, 0, 0, 0, 0, 0, 0, 0, 0, 0, 0, 0, 0, 0, 0, 0, 0, 0, 0, 0, 0, 0, 0, 0]\n",
      "432\n",
      "['time-1, DStar, ACS, combine: 1', 'time-1, DStar, Nopol, combine: 2', 'time-1, DStar, SimFix, combine: 3', 'time-1, DStar, TBar, combine: 4', 'time-1, Jaccard, ACS, combine: 5', 'time-1, Jaccard, Nopol, combine: 6', 'time-1, Jaccard, SimFix, combine: 7', 'time-1, Jaccard, TBar, combine: 8', 'time-1, Ochiai, ACS, combine: 9', 'time-1, Ochiai, Nopol, combine: 10', 'time-1, Ochiai, SimFix, combine: 11', 'time-1, Ochiai, TBar, combine: 12', 'time-1, Tarantula, ACS, combine: 13', 'time-1, Tarantula, Nopol, combine: 14', 'time-1, Tarantula, SimFix, combine: 15', 'time-1, Tarantula, TBar, combine: 16', 'time-2, DStar, ACS, combine: 1', 'time-2, DStar, Nopol, combine: 2', 'time-2, DStar, SimFix, combine: 3', 'time-2, DStar, TBar, combine: 4', 'time-2, Jaccard, ACS, combine: 5', 'time-2, Jaccard, Nopol, combine: 6', 'time-2, Jaccard, SimFix, combine: 7', 'time-2, Jaccard, TBar, combine: 8', 'time-2, Ochiai, ACS, combine: 9', 'time-2, Ochiai, Nopol, combine: 10', 'time-2, Ochiai, SimFix, combine: 11', 'time-2, Ochiai, TBar, combine: 12', 'time-2, Tarantula, ACS, combine: 13', 'time-2, Tarantula, Nopol, combine: 14', 'time-2, Tarantula, SimFix, combine: 15', 'time-2, Tarantula, TBar, combine: 16', 'time-3, DStar, ACS, combine: 1', 'time-3, DStar, Nopol, combine: 2', 'time-3, DStar, SimFix, combine: 3', 'time-3, DStar, TBar, combine: 4', 'time-3, Jaccard, ACS, combine: 5', 'time-3, Jaccard, Nopol, combine: 6', 'time-3, Jaccard, SimFix, combine: 7', 'time-3, Jaccard, TBar, combine: 8', 'time-3, Ochiai, ACS, combine: 9', 'time-3, Ochiai, Nopol, combine: 10', 'time-3, Ochiai, SimFix, combine: 11', 'time-3, Ochiai, TBar, combine: 12', 'time-3, Tarantula, ACS, combine: 13', 'time-3, Tarantula, Nopol, combine: 14', 'time-3, Tarantula, SimFix, combine: 15', 'time-3, Tarantula, TBar, combine: 16', 'time-4, DStar, ACS, combine: 1', 'time-4, DStar, Nopol, combine: 2', 'time-4, DStar, SimFix, combine: 3', 'time-4, DStar, TBar, combine: 4', 'time-4, Jaccard, ACS, combine: 5', 'time-4, Jaccard, Nopol, combine: 6', 'time-4, Jaccard, SimFix, combine: 7', 'time-4, Jaccard, TBar, combine: 8', 'time-4, Ochiai, ACS, combine: 9', 'time-4, Ochiai, Nopol, combine: 10', 'time-4, Ochiai, SimFix, combine: 11', 'time-4, Ochiai, TBar, combine: 12', 'time-4, Tarantula, ACS, combine: 13', 'time-4, Tarantula, Nopol, combine: 14', 'time-4, Tarantula, SimFix, combine: 15', 'time-4, Tarantula, TBar, combine: 16', 'time-5, DStar, ACS, combine: 1', 'time-5, DStar, Nopol, combine: 2', 'time-5, DStar, SimFix, combine: 3', 'time-5, DStar, TBar, combine: 4', 'time-5, Jaccard, ACS, combine: 5', 'time-5, Jaccard, Nopol, combine: 6', 'time-5, Jaccard, SimFix, combine: 7', 'time-5, Jaccard, TBar, combine: 8', 'time-5, Ochiai, ACS, combine: 9', 'time-5, Ochiai, Nopol, combine: 10', 'time-5, Ochiai, SimFix, combine: 11', 'time-5, Ochiai, TBar, combine: 12', 'time-5, Tarantula, ACS, combine: 13', 'time-5, Tarantula, Nopol, combine: 14', 'time-5, Tarantula, SimFix, combine: 15', 'time-5, Tarantula, TBar, combine: 16', 'time-6, DStar, ACS, combine: 1', 'time-6, DStar, Nopol, combine: 2', 'time-6, DStar, SimFix, combine: 3', 'time-6, DStar, TBar, combine: 4', 'time-6, Jaccard, ACS, combine: 5', 'time-6, Jaccard, Nopol, combine: 6', 'time-6, Jaccard, SimFix, combine: 7', 'time-6, Jaccard, TBar, combine: 8', 'time-6, Ochiai, ACS, combine: 9', 'time-6, Ochiai, Nopol, combine: 10', 'time-6, Ochiai, SimFix, combine: 11', 'time-6, Ochiai, TBar, combine: 12', 'time-6, Tarantula, ACS, combine: 13', 'time-6, Tarantula, Nopol, combine: 14', 'time-6, Tarantula, SimFix, combine: 15', 'time-6, Tarantula, TBar, combine: 16', 'time-7, DStar, ACS, combine: 1', 'time-7, DStar, Nopol, combine: 2', 'time-7, DStar, SimFix, combine: 3', 'time-7, DStar, TBar, combine: 4', 'time-7, Jaccard, ACS, combine: 5', 'time-7, Jaccard, Nopol, combine: 6', 'time-7, Jaccard, SimFix, combine: 7', 'time-7, Jaccard, TBar, combine: 8', 'time-7, Ochiai, ACS, combine: 9', 'time-7, Ochiai, Nopol, combine: 10', 'time-7, Ochiai, SimFix, combine: 11', 'time-7, Ochiai, TBar, combine: 12', 'time-7, Tarantula, ACS, combine: 13', 'time-7, Tarantula, Nopol, combine: 14', 'time-7, Tarantula, SimFix, combine: 15', 'time-7, Tarantula, TBar, combine: 16', 'time-8, DStar, ACS, combine: 1', 'time-8, DStar, Nopol, combine: 2', 'time-8, DStar, SimFix, combine: 3', 'time-8, DStar, TBar, combine: 4', 'time-8, Jaccard, ACS, combine: 5', 'time-8, Jaccard, Nopol, combine: 6', 'time-8, Jaccard, SimFix, combine: 7', 'time-8, Jaccard, TBar, combine: 8', 'time-8, Ochiai, ACS, combine: 9', 'time-8, Ochiai, Nopol, combine: 10', 'time-8, Ochiai, SimFix, combine: 11', 'time-8, Ochiai, TBar, combine: 12', 'time-8, Tarantula, ACS, combine: 13', 'time-8, Tarantula, Nopol, combine: 14', 'time-8, Tarantula, SimFix, combine: 15', 'time-8, Tarantula, TBar, combine: 16', 'time-9, DStar, ACS, combine: 1', 'time-9, DStar, Nopol, combine: 2', 'time-9, DStar, SimFix, combine: 3', 'time-9, DStar, TBar, combine: 4', 'time-9, Jaccard, ACS, combine: 5', 'time-9, Jaccard, Nopol, combine: 6', 'time-9, Jaccard, SimFix, combine: 7', 'time-9, Jaccard, TBar, combine: 8', 'time-9, Ochiai, ACS, combine: 9', 'time-9, Ochiai, Nopol, combine: 10', 'time-9, Ochiai, SimFix, combine: 11', 'time-9, Ochiai, TBar, combine: 12', 'time-9, Tarantula, ACS, combine: 13', 'time-9, Tarantula, Nopol, combine: 14', 'time-9, Tarantula, SimFix, combine: 15', 'time-9, Tarantula, TBar, combine: 16', 'time-10, DStar, ACS, combine: 1', 'time-10, DStar, Nopol, combine: 2', 'time-10, DStar, SimFix, combine: 3', 'time-10, DStar, TBar, combine: 4', 'time-10, Jaccard, ACS, combine: 5', 'time-10, Jaccard, Nopol, combine: 6', 'time-10, Jaccard, SimFix, combine: 7', 'time-10, Jaccard, TBar, combine: 8', 'time-10, Ochiai, ACS, combine: 9', 'time-10, Ochiai, Nopol, combine: 10', 'time-10, Ochiai, SimFix, combine: 11', 'time-10, Ochiai, TBar, combine: 12', 'time-10, Tarantula, ACS, combine: 13', 'time-10, Tarantula, Nopol, combine: 14', 'time-10, Tarantula, SimFix, combine: 15', 'time-10, Tarantula, TBar, combine: 16', 'time-11, DStar, ACS, combine: 1', 'time-11, DStar, Nopol, combine: 2', 'time-11, DStar, SimFix, combine: 3', 'time-11, DStar, TBar, combine: 4', 'time-11, Jaccard, ACS, combine: 5', 'time-11, Jaccard, Nopol, combine: 6', 'time-11, Jaccard, SimFix, combine: 7', 'time-11, Jaccard, TBar, combine: 8', 'time-11, Ochiai, ACS, combine: 9', 'time-11, Ochiai, Nopol, combine: 10', 'time-11, Ochiai, SimFix, combine: 11', 'time-11, Ochiai, TBar, combine: 12', 'time-11, Tarantula, ACS, combine: 13', 'time-11, Tarantula, Nopol, combine: 14', 'time-11, Tarantula, SimFix, combine: 15', 'time-11, Tarantula, TBar, combine: 16', 'time-12, DStar, ACS, combine: 1', 'time-12, DStar, Nopol, combine: 2', 'time-12, DStar, SimFix, combine: 3', 'time-12, DStar, TBar, combine: 4', 'time-12, Jaccard, ACS, combine: 5', 'time-12, Jaccard, Nopol, combine: 6', 'time-12, Jaccard, SimFix, combine: 7', 'time-12, Jaccard, TBar, combine: 8', 'time-12, Ochiai, ACS, combine: 9', 'time-12, Ochiai, Nopol, combine: 10', 'time-12, Ochiai, SimFix, combine: 11', 'time-12, Ochiai, TBar, combine: 12', 'time-12, Tarantula, ACS, combine: 13', 'time-12, Tarantula, Nopol, combine: 14', 'time-12, Tarantula, SimFix, combine: 15', 'time-12, Tarantula, TBar, combine: 16', 'time-13, DStar, ACS, combine: 1', 'time-13, DStar, Nopol, combine: 2', 'time-13, DStar, SimFix, combine: 3', 'time-13, DStar, TBar, combine: 4', 'time-13, Jaccard, ACS, combine: 5', 'time-13, Jaccard, Nopol, combine: 6', 'time-13, Jaccard, SimFix, combine: 7', 'time-13, Jaccard, TBar, combine: 8', 'time-13, Ochiai, ACS, combine: 9', 'time-13, Ochiai, Nopol, combine: 10', 'time-13, Ochiai, SimFix, combine: 11', 'time-13, Ochiai, TBar, combine: 12', 'time-13, Tarantula, ACS, combine: 13', 'time-13, Tarantula, Nopol, combine: 14', 'time-13, Tarantula, SimFix, combine: 15', 'time-13, Tarantula, TBar, combine: 16', 'time-14, DStar, ACS, combine: 1', 'time-14, DStar, Nopol, combine: 2', 'time-14, DStar, SimFix, combine: 3', 'time-14, DStar, TBar, combine: 4', 'time-14, Jaccard, ACS, combine: 5', 'time-14, Jaccard, Nopol, combine: 6', 'time-14, Jaccard, SimFix, combine: 7', 'time-14, Jaccard, TBar, combine: 8', 'time-14, Ochiai, ACS, combine: 9', 'time-14, Ochiai, Nopol, combine: 10', 'time-14, Ochiai, SimFix, combine: 11', 'time-14, Ochiai, TBar, combine: 12', 'time-14, Tarantula, ACS, combine: 13', 'time-14, Tarantula, Nopol, combine: 14', 'time-14, Tarantula, SimFix, combine: 15', 'time-14, Tarantula, TBar, combine: 16', 'time-15, DStar, ACS, combine: 1', 'time-15, DStar, Nopol, combine: 2', 'time-15, DStar, SimFix, combine: 3', 'time-15, DStar, TBar, combine: 4', 'time-15, Jaccard, ACS, combine: 5', 'time-15, Jaccard, Nopol, combine: 6', 'time-15, Jaccard, SimFix, combine: 7', 'time-15, Jaccard, TBar, combine: 8', 'time-15, Ochiai, ACS, combine: 9', 'time-15, Ochiai, Nopol, combine: 10', 'time-15, Ochiai, SimFix, combine: 11', 'time-15, Ochiai, TBar, combine: 12', 'time-15, Tarantula, ACS, combine: 13', 'time-15, Tarantula, Nopol, combine: 14', 'time-15, Tarantula, SimFix, combine: 15', 'time-15, Tarantula, TBar, combine: 16', 'time-16, DStar, ACS, combine: 1', 'time-16, DStar, Nopol, combine: 2', 'time-16, DStar, SimFix, combine: 3', 'time-16, DStar, TBar, combine: 4', 'time-16, Jaccard, ACS, combine: 5', 'time-16, Jaccard, Nopol, combine: 6', 'time-16, Jaccard, SimFix, combine: 7', 'time-16, Jaccard, TBar, combine: 8', 'time-16, Ochiai, ACS, combine: 9', 'time-16, Ochiai, Nopol, combine: 10', 'time-16, Ochiai, SimFix, combine: 11', 'time-16, Ochiai, TBar, combine: 12', 'time-16, Tarantula, ACS, combine: 13', 'time-16, Tarantula, Nopol, combine: 14', 'time-16, Tarantula, SimFix, combine: 15', 'time-16, Tarantula, TBar, combine: 16', 'time-17, DStar, ACS, combine: 1', 'time-17, DStar, Nopol, combine: 2', 'time-17, DStar, SimFix, combine: 3', 'time-17, DStar, TBar, combine: 4', 'time-17, Jaccard, ACS, combine: 5', 'time-17, Jaccard, Nopol, combine: 6', 'time-17, Jaccard, SimFix, combine: 7', 'time-17, Jaccard, TBar, combine: 8', 'time-17, Ochiai, ACS, combine: 9', 'time-17, Ochiai, Nopol, combine: 10', 'time-17, Ochiai, SimFix, combine: 11', 'time-17, Ochiai, TBar, combine: 12', 'time-17, Tarantula, ACS, combine: 13', 'time-17, Tarantula, Nopol, combine: 14', 'time-17, Tarantula, SimFix, combine: 15', 'time-17, Tarantula, TBar, combine: 16', 'time-18, DStar, ACS, combine: 1', 'time-18, DStar, Nopol, combine: 2', 'time-18, DStar, SimFix, combine: 3', 'time-18, DStar, TBar, combine: 4', 'time-18, Jaccard, ACS, combine: 5', 'time-18, Jaccard, Nopol, combine: 6', 'time-18, Jaccard, SimFix, combine: 7', 'time-18, Jaccard, TBar, combine: 8', 'time-18, Ochiai, ACS, combine: 9', 'time-18, Ochiai, Nopol, combine: 10', 'time-18, Ochiai, SimFix, combine: 11', 'time-18, Ochiai, TBar, combine: 12', 'time-18, Tarantula, ACS, combine: 13', 'time-18, Tarantula, Nopol, combine: 14', 'time-18, Tarantula, SimFix, combine: 15', 'time-18, Tarantula, TBar, combine: 16', 'time-19, DStar, ACS, combine: 1', 'time-19, DStar, Nopol, combine: 2', 'time-19, DStar, SimFix, combine: 3', 'time-19, DStar, TBar, combine: 4', 'time-19, Jaccard, ACS, combine: 5', 'time-19, Jaccard, Nopol, combine: 6', 'time-19, Jaccard, SimFix, combine: 7', 'time-19, Jaccard, TBar, combine: 8', 'time-19, Ochiai, ACS, combine: 9', 'time-19, Ochiai, Nopol, combine: 10', 'time-19, Ochiai, SimFix, combine: 11', 'time-19, Ochiai, TBar, combine: 12', 'time-19, Tarantula, ACS, combine: 13', 'time-19, Tarantula, Nopol, combine: 14', 'time-19, Tarantula, SimFix, combine: 15', 'time-19, Tarantula, TBar, combine: 16', 'time-20, DStar, ACS, combine: 1', 'time-20, DStar, Nopol, combine: 2', 'time-20, DStar, SimFix, combine: 3', 'time-20, DStar, TBar, combine: 4', 'time-20, Jaccard, ACS, combine: 5', 'time-20, Jaccard, Nopol, combine: 6', 'time-20, Jaccard, SimFix, combine: 7', 'time-20, Jaccard, TBar, combine: 8', 'time-20, Ochiai, ACS, combine: 9', 'time-20, Ochiai, Nopol, combine: 10', 'time-20, Ochiai, SimFix, combine: 11', 'time-20, Ochiai, TBar, combine: 12', 'time-20, Tarantula, ACS, combine: 13', 'time-20, Tarantula, Nopol, combine: 14', 'time-20, Tarantula, SimFix, combine: 15', 'time-20, Tarantula, TBar, combine: 16', 'time-21, DStar, ACS, combine: 1', 'time-21, DStar, Nopol, combine: 2', 'time-21, DStar, SimFix, combine: 3', 'time-21, DStar, TBar, combine: 4', 'time-21, Jaccard, ACS, combine: 5', 'time-21, Jaccard, Nopol, combine: 6', 'time-21, Jaccard, SimFix, combine: 7', 'time-21, Jaccard, TBar, combine: 8', 'time-21, Ochiai, ACS, combine: 9', 'time-21, Ochiai, Nopol, combine: 10', 'time-21, Ochiai, SimFix, combine: 11', 'time-21, Ochiai, TBar, combine: 12', 'time-21, Tarantula, ACS, combine: 13', 'time-21, Tarantula, Nopol, combine: 14', 'time-21, Tarantula, SimFix, combine: 15', 'time-21, Tarantula, TBar, combine: 16', 'time-22, DStar, ACS, combine: 1', 'time-22, DStar, Nopol, combine: 2', 'time-22, DStar, SimFix, combine: 3', 'time-22, DStar, TBar, combine: 4', 'time-22, Jaccard, ACS, combine: 5', 'time-22, Jaccard, Nopol, combine: 6', 'time-22, Jaccard, SimFix, combine: 7', 'time-22, Jaccard, TBar, combine: 8', 'time-22, Ochiai, ACS, combine: 9', 'time-22, Ochiai, Nopol, combine: 10', 'time-22, Ochiai, SimFix, combine: 11', 'time-22, Ochiai, TBar, combine: 12', 'time-22, Tarantula, ACS, combine: 13', 'time-22, Tarantula, Nopol, combine: 14', 'time-22, Tarantula, SimFix, combine: 15', 'time-22, Tarantula, TBar, combine: 16', 'time-23, DStar, ACS, combine: 1', 'time-23, DStar, Nopol, combine: 2', 'time-23, DStar, SimFix, combine: 3', 'time-23, DStar, TBar, combine: 4', 'time-23, Jaccard, ACS, combine: 5', 'time-23, Jaccard, Nopol, combine: 6', 'time-23, Jaccard, SimFix, combine: 7', 'time-23, Jaccard, TBar, combine: 8', 'time-23, Ochiai, ACS, combine: 9', 'time-23, Ochiai, Nopol, combine: 10', 'time-23, Ochiai, SimFix, combine: 11', 'time-23, Ochiai, TBar, combine: 12', 'time-23, Tarantula, ACS, combine: 13', 'time-23, Tarantula, Nopol, combine: 14', 'time-23, Tarantula, SimFix, combine: 15', 'time-23, Tarantula, TBar, combine: 16', 'time-24, DStar, ACS, combine: 1', 'time-24, DStar, Nopol, combine: 2', 'time-24, DStar, SimFix, combine: 3', 'time-24, DStar, TBar, combine: 4', 'time-24, Jaccard, ACS, combine: 5', 'time-24, Jaccard, Nopol, combine: 6', 'time-24, Jaccard, SimFix, combine: 7', 'time-24, Jaccard, TBar, combine: 8', 'time-24, Ochiai, ACS, combine: 9', 'time-24, Ochiai, Nopol, combine: 10', 'time-24, Ochiai, SimFix, combine: 11', 'time-24, Ochiai, TBar, combine: 12', 'time-24, Tarantula, ACS, combine: 13', 'time-24, Tarantula, Nopol, combine: 14', 'time-24, Tarantula, SimFix, combine: 15', 'time-24, Tarantula, TBar, combine: 16', 'time-25, DStar, ACS, combine: 1', 'time-25, DStar, Nopol, combine: 2', 'time-25, DStar, SimFix, combine: 3', 'time-25, DStar, TBar, combine: 4', 'time-25, Jaccard, ACS, combine: 5', 'time-25, Jaccard, Nopol, combine: 6', 'time-25, Jaccard, SimFix, combine: 7', 'time-25, Jaccard, TBar, combine: 8', 'time-25, Ochiai, ACS, combine: 9', 'time-25, Ochiai, Nopol, combine: 10', 'time-25, Ochiai, SimFix, combine: 11', 'time-25, Ochiai, TBar, combine: 12', 'time-25, Tarantula, ACS, combine: 13', 'time-25, Tarantula, Nopol, combine: 14', 'time-25, Tarantula, SimFix, combine: 15', 'time-25, Tarantula, TBar, combine: 16', 'time-26, DStar, ACS, combine: 1', 'time-26, DStar, Nopol, combine: 2', 'time-26, DStar, SimFix, combine: 3', 'time-26, DStar, TBar, combine: 4', 'time-26, Jaccard, ACS, combine: 5', 'time-26, Jaccard, Nopol, combine: 6', 'time-26, Jaccard, SimFix, combine: 7', 'time-26, Jaccard, TBar, combine: 8', 'time-26, Ochiai, ACS, combine: 9', 'time-26, Ochiai, Nopol, combine: 10', 'time-26, Ochiai, SimFix, combine: 11', 'time-26, Ochiai, TBar, combine: 12', 'time-26, Tarantula, ACS, combine: 13', 'time-26, Tarantula, Nopol, combine: 14', 'time-26, Tarantula, SimFix, combine: 15', 'time-26, Tarantula, TBar, combine: 16', 'time-27, DStar, ACS, combine: 1', 'time-27, DStar, Nopol, combine: 2', 'time-27, DStar, SimFix, combine: 3', 'time-27, DStar, TBar, combine: 4', 'time-27, Jaccard, ACS, combine: 5', 'time-27, Jaccard, Nopol, combine: 6', 'time-27, Jaccard, SimFix, combine: 7', 'time-27, Jaccard, TBar, combine: 8', 'time-27, Ochiai, ACS, combine: 9', 'time-27, Ochiai, Nopol, combine: 10', 'time-27, Ochiai, SimFix, combine: 11', 'time-27, Ochiai, TBar, combine: 12', 'time-27, Tarantula, ACS, combine: 13', 'time-27, Tarantula, Nopol, combine: 14', 'time-27, Tarantula, SimFix, combine: 15', 'time-27, Tarantula, TBar, combine: 16']\n",
      "432\n",
      "[0, 0, 0, 0, 0, 0, 0, 0, 0, 0, 0, 0, 0, 0, 0, 0, 0, 0, 0, 0, 0, 0, 0, 0, 0, 0, 0, 0, 0, 0, 0, 0, 0, 0, 0, 0, 0, 0, 0, 0, 0, 0, 0, 0, 0, 0, 0, 0, 0, 0, 0, 0, 0, 0, 0, 0, 0, 0, 0, 0, 0, 0, 0, 0, 0, 0, 0, 0, 0, 0, 0, 0, 0, 0, 0, 0, 0, 0, 0, 0, 0, 0, 0, 0, 0, 0, 0, 0, 0, 0, 0, 0, 0, 0, 0, 0, 0, 0, 0, 0, 0, 0, 0, 0, 0, 0, 0, 0, 0, 0, 0, 0, 0, 0, 0, 0, 0, 0, 0, 0, 0, 0, 0, 0, 0, 0, 0, 0, 0, 0, 0, 0, 0, 0, 0, 0, 0, 0, 0, 0, 0, 0, 0, 0, 0, 0, 0, 0, 0, 0, 0, 0, 0, 0, 0, 0, 0, 0, 0, 0, 0, 0, 0, 0, 0, 0, 0, 0, 0, 0, 0, 0, 0, 0, 0, 0, 0, 0, 0, 0, 0, 0, 0, 0, 0, 0, 0, 0, 0, 0, 0, 0, 0, 0, 0, 0, 0, 0, 0, 0, 0, 0, 0, 0, 0, 0, 0, 0, 0, 0, 0, 0, 0, 0, 0, 0, 0, 0, 0, 0, 0, 0, 0, 0, 0, 0, 0, 0, 0, 0, 0, 0, 0, 0, 0, 0, 0, 0, 0, 0, 0, 0, 0, 0, 0, 0, 0, 0, 0, 0, 0, 0, 0, 0, 0, 0, 0, 0, 0, 0, 0, 0, 0, 0, 0, 0, 0, 0, 0, 0, 0, 0, 0, 0, 0, 0, 0, 0, 0, 0, 0, 0, 0, 0, 0, 0, 0, 0, 0, 0, 0, 0, 0, 0, 0, 0, 0, 0, 0, 0, 0, 0, 0, 0, 0, 0, 0, 0, 0, 0, 0, 0, 0, 0, 0, 0, 0, 0, 0, 0, 0, 0, 0, 0, 0, 0, 0, 0, 0, 0, 0, 0, 0, 0, 0, 0, 0, 0, 0, 0, 0, 0, 0, 0, 0, 0, 0, 0, 0, 0, 0, 0, 0, 0, 0, 0, 0, 0, 0, 0, 0, 0, 0, 0, 0, 0, 0, 0, 0, 0, 0, 0, 0, 0, 0, 0, 0, 0, 0, 0, 0, 0, 0, 0, 0, 0, 0, 0, 0, 0, 0, 0, 0, 0, 0, 0, 0, 0, 0, 0, 0, 0, 0, 0, 0, 0, 0, 0, 0, 0, 0, 0, 0, 0, 0, 0, 0, 0, 0, 0, 0, 0, 0, 0, 0, 0, 0, 0, 0, 0, 0, 0]\n",
      "432\n"
     ]
    }
   ],
   "source": [
    "for i in range(1, bugid_num+1): #chart共有26個\n",
    "    combine = 1\n",
    "    for SBFL_index, SBFL in enumerate(SBFLlist):\n",
    "        for APR_index, APR in enumerate(APRlist):\n",
    "            data['bugid'].append(i + id_start)#2024/10/22，已將bug-id編號修改，math由40001開始到40027\n",
    "            data['combine'].append(combine)\n",
    "            combine = combine + 1\n",
    "            #print(APR_index)\n",
    "            #print(str(APR_index) + ': ' + SBFL + ', ' + APR)\n",
    "            #處理Top-1\n",
    "            if Top1[SBFL_index][i-1] == 1:\n",
    "                data['top-1'].append(1)\n",
    "            elif Top1[SBFL_index][i-1] == 0:\n",
    "                data['top-1'].append(0)\n",
    "            #處理Top-3\n",
    "            if Top3[SBFL_index][i-1] == 1:\n",
    "                data['top-3'].append(1)\n",
    "            elif Top3[SBFL_index][i-1] == 0:\n",
    "                data['top-3'].append(0)\n",
    "            #處理Top-5\n",
    "            if Top5[SBFL_index][i-1] == 1:\n",
    "                data['top-5'].append(1)\n",
    "            elif Top5[SBFL_index][i-1] == 0:\n",
    "                data['top-5'].append(0)\n",
    "            #處理Top-10\n",
    "            if Top10[SBFL_index][i-1] == 1:\n",
    "                data['top-10'].append(1)\n",
    "            elif Top10[SBFL_index][i-1] == 0:\n",
    "                data['top-10'].append(0)\n",
    "            #標示是否正確，以及label\n",
    "            if APR_result[APR_index][i-1] == 0:\n",
    "                data['是否生成(0)/正確(1, 2)'].append(0)\n",
    "                data['correct patch/lable'].append(0)\n",
    "            elif APR_result[APR_index][i-1] == 1:\n",
    "                data['是否生成(0)/正確(1, 2)'].append(1)\n",
    "                data['correct patch/lable'].append(0)\n",
    "            elif APR_result[APR_index][i-1] == 2:\n",
    "                data['是否生成(0)/正確(1, 2)'].append(2)\n",
    "                data['correct patch/lable'].append(1)\n",
    "            data['標示用，不參與訓練'].append(project_is + '-' + str(i) + ', ' + SBFL + ', ' + APR + ', combine: ' + str(combine-1))\n",
    "\n",
    "            \n",
    "            data['補充說明'].append(0)\n",
    "\n",
    "\n",
    "print(data['bugid'])\n",
    "print(len(data['bugid']))\n",
    "print(data['combine'])\n",
    "print(len(data['combine']))\n",
    "print(data['top-1'])\n",
    "print(len(data['top-1']))\n",
    "print(data['top-3'])\n",
    "print(len(data['top-3']))\n",
    "print(data['top-5'])\n",
    "print(len(data['top-5']))\n",
    "print(data['top-10'])\n",
    "print(len(data['top-10']))\n",
    "print(data['是否生成(0)/正確(1, 2)'])\n",
    "print(len(data['是否生成(0)/正確(1, 2)']))\n",
    "print(data['correct patch/lable'])\n",
    "print(len(data['correct patch/lable']))\n",
    "print(data['標示用，不參與訓練'])\n",
    "print(len(data['標示用，不參與訓練']))\n",
    "print(data['補充說明'])\n",
    "print(len(data['補充說明']))\n",
    "            "
   ]
  },
  {
   "cell_type": "code",
   "execution_count": 6,
   "metadata": {},
   "outputs": [
    {
     "name": "stdout",
     "output_type": "stream",
     "text": [
      "     bugid  combine  top-1  top-3  top-5  top-10  是否生成(0)/正確(1, 2)  \\\n",
      "0    40001        1      1      1      1       1                 0   \n",
      "1    40001        2      1      1      1       1                 0   \n",
      "2    40001        3      1      1      1       1                 0   \n",
      "3    40001        4      1      1      1       1                 0   \n",
      "4    40001        5      0      1      1       1                 0   \n",
      "..     ...      ...    ...    ...    ...     ...               ...   \n",
      "427  40027       12      0      0      0       0                 0   \n",
      "428  40027       13      0      0      0       0                 0   \n",
      "429  40027       14      0      0      0       0                 0   \n",
      "430  40027       15      0      0      0       0                 0   \n",
      "431  40027       16      0      0      0       0                 0   \n",
      "\n",
      "     correct patch/lable                                標示用，不參與訓練  補充說明  \n",
      "0                      0           time-1, DStar, ACS, combine: 1     0  \n",
      "1                      0         time-1, DStar, Nopol, combine: 2     0  \n",
      "2                      0        time-1, DStar, SimFix, combine: 3     0  \n",
      "3                      0          time-1, DStar, TBar, combine: 4     0  \n",
      "4                      0         time-1, Jaccard, ACS, combine: 5     0  \n",
      "..                   ...                                      ...   ...  \n",
      "427                    0       time-27, Ochiai, TBar, combine: 12     0  \n",
      "428                    0     time-27, Tarantula, ACS, combine: 13     0  \n",
      "429                    0   time-27, Tarantula, Nopol, combine: 14     0  \n",
      "430                    0  time-27, Tarantula, SimFix, combine: 15     0  \n",
      "431                    0    time-27, Tarantula, TBar, combine: 16     0  \n",
      "\n",
      "[432 rows x 10 columns]\n"
     ]
    }
   ],
   "source": [
    "# 創建 DataFrame\n",
    "df = pd.DataFrame(data)\n",
    "print(df)"
   ]
  },
  {
   "cell_type": "code",
   "execution_count": 7,
   "metadata": {},
   "outputs": [],
   "source": [
    "import openpyxl\n",
    "\n",
    "wb = openpyxl.Workbook() #建立空的excel\n",
    "#wb = openpyxl.load_workbook('oxxo.xlsx') #開啟excel\n",
    "wb.save( create_file_name + '.xlsx')"
   ]
  },
  {
   "cell_type": "code",
   "execution_count": 8,
   "metadata": {},
   "outputs": [
    {
     "name": "stdout",
     "output_type": "stream",
     "text": [
      "資料已寫入 test_SBFL_time.xlsx 文件中\n"
     ]
    }
   ],
   "source": [
    "# 將資料寫入 Excel 檔案\n",
    "file_name = create_file_name + '.xlsx'\n",
    "df.to_excel(file_name, index=False)\n",
    "\n",
    "print(f\"資料已寫入 {file_name} 文件中\")"
   ]
  }
 ],
 "metadata": {
  "kernelspec": {
   "display_name": "grade_environment",
   "language": "python",
   "name": "python3"
  },
  "language_info": {
   "codemirror_mode": {
    "name": "ipython",
    "version": 3
   },
   "file_extension": ".py",
   "mimetype": "text/x-python",
   "name": "python",
   "nbconvert_exporter": "python",
   "pygments_lexer": "ipython3",
   "version": "3.8.19"
  }
 },
 "nbformat": 4,
 "nbformat_minor": 2
}
