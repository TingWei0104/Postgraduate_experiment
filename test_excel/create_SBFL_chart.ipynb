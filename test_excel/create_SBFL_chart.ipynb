{
 "cells": [
  {
   "cell_type": "code",
   "execution_count": 11,
   "metadata": {},
   "outputs": [],
   "source": [
    "import pandas as pd"
   ]
  },
  {
   "cell_type": "code",
   "execution_count": 12,
   "metadata": {},
   "outputs": [
    {
     "data": {
      "text/plain": [
       "'\\n# 創建一個資料\\ndata = {\\n    \\'bugid\\': [1, 2, 3, 4],\\n    \\'combine\\': [1, 2, 3, 4],\\n    \\'top-1\\': [0.0, 0.0, 0.0, 0.0],\\n    \\'top-3\\': [0.0, 0.0, 0.0, 0.0],\\n    \\'top-5\\': [0.0, 0.0, 0.0, 0.0],\\n    \\'top-10\\': [0.0, 0.0, 0.0, 0.0],\\n    \\'是否生成/正確\\': [0.0, 0.0, 0.0, 0.0],\\n    \\'correct patch/lable\\': [0.0, 0.0, 0.0, 0.0],\\n    \\'補充說明\\': [\\'chart-1\\', \\'chart-2\\', \\'chart-3\\', \\'chart-4\\']\\n}\\n\\n# 創建 DataFrame\\ndf = pd.DataFrame(data)\\n\\n# 將資料寫入 Excel 檔案\\nfile_name = \\'output.xlsx\\'\\ndf.to_excel(file_name, index=False)\\n\\nprint(f\"資料已寫入 {file_name} 文件中\")\\n\\n'"
      ]
     },
     "execution_count": 12,
     "metadata": {},
     "output_type": "execute_result"
    }
   ],
   "source": [
    "'''\n",
    "# 創建一個資料\n",
    "data = {\n",
    "    'bugid': [1, 2, 3, 4],\n",
    "    'combine': [1, 2, 3, 4],\n",
    "    'top-1': [0.0, 0.0, 0.0, 0.0],\n",
    "    'top-3': [0.0, 0.0, 0.0, 0.0],\n",
    "    'top-5': [0.0, 0.0, 0.0, 0.0],\n",
    "    'top-10': [0.0, 0.0, 0.0, 0.0],\n",
    "    '是否生成/正確': [0.0, 0.0, 0.0, 0.0],\n",
    "    'correct patch/lable': [0.0, 0.0, 0.0, 0.0],\n",
    "    '補充說明': ['chart-1', 'chart-2', 'chart-3', 'chart-4']\n",
    "}\n",
    "\n",
    "# 創建 DataFrame\n",
    "df = pd.DataFrame(data)\n",
    "\n",
    "# 將資料寫入 Excel 檔案\n",
    "file_name = 'output.xlsx'\n",
    "df.to_excel(file_name, index=False)\n",
    "\n",
    "print(f\"資料已寫入 {file_name} 文件中\")\n",
    "\n",
    "'''"
   ]
  },
  {
   "cell_type": "code",
   "execution_count": 13,
   "metadata": {},
   "outputs": [],
   "source": [
    "#資料準備\n",
    "create_file_name = 'test_SBFL_chart' #要輸出的excel名稱\n",
    "bugid_num = 26 #輸入有多少個bug\n",
    "project_is = 'chart'\n",
    "SBFLlist = ['DStar', 'Jaccard', 'Ochiai', 'Tarantula'] #要使用的SBFL\n",
    "APRlist = ['ACS', 'Nopol', 'SimFix', 'TBar'] #要使用的APR\n",
    "Top1 = [\n",
    "    [0,0,0,0,0,0,0,1,0,0,0,0,0,0,0,1,0,1,1,0,0,0,0,0,0,0], #DStar: 8,16,18,19\n",
    "    [0,0,0,0,0,0,0,1,0,0,0,0,0,0,0,1,0,0,1,1,0,0,0,0,0,0], #Jaccard: 8,16,19,20\n",
    "    [0,0,0,0,0,0,0,1,0,0,0,0,0,0,0,1,0,0,1,0,0,0,0,0,0,0], #Ochiai: 8,16,19\n",
    "    [0,0,0,0,0,0,0,1,0,0,0,0,0,0,0,0,0,0,1,0,0,0,0,0,0,0]  #Tarantula:8,19\n",
    "]\n",
    "\n",
    "Top3 = [\n",
    "    [0,0,1,0,0,0,0,1,0,0,0,0,0,0,0,1,1,1,1,0,1,0,0,0,0,0], #DStar: 3,8,16,17,18,19,21\n",
    "    [0,0,1,0,0,0,0,1,0,1,0,0,0,0,0,1,1,1,1,1,0,0,0,1,0,0], #Jaccard: 3,8,10,16,17,18,19,20,24\n",
    "    [0,0,1,0,0,0,0,1,0,1,0,0,0,0,0,1,1,1,1,0,0,0,0,1,0,0], #Ochiai: 3,8,10,16,17,18,19,24\n",
    "    [0,0,1,0,0,0,0,1,0,1,0,0,0,0,0,1,1,0,1,0,0,0,0,1,0,0]  #Tarantula: 3,8,10,16,17,19,24\n",
    "]\n",
    "\n",
    "Top5 = [\n",
    "    [0,0,1,0,0,0,0,1,0,0,1,0,0,0,0,1,1,1,1,1,1,0,0,0,0,0], #DStar: 3,8,11,16,17,18,19,20,21\n",
    "    [0,0,1,0,0,0,0,1,0,1,1,0,0,0,0,1,1,1,1,1,0,0,0,1,0,0], #Jaccard: 3,8,10,11,16,17,18,19,20,24\n",
    "    [0,0,1,0,0,0,0,1,0,1,1,0,0,0,0,1,1,1,1,1,0,0,0,1,0,0], #Ochiai: 3,8,10,11,16,17,18,19,20,24\n",
    "    [0,0,1,0,0,0,0,1,0,1,1,0,0,0,0,1,1,1,1,1,0,0,0,1,0,0]  #Tarantula: 3,8,10,11,16,17,18,19,20,24\n",
    "]\n",
    "\n",
    "Top10 = [\n",
    "    [0,0,1,0,1,0,0,1,0,0,1,1,0,0,0,1,1,1,1,1,1,0,0,0,0,0], #DStar: 3,5,8,11,12,16,17,18,19,20,21\n",
    "    [0,0,1,0,1,0,0,1,0,1,1,1,0,1,0,1,1,1,1,1,1,1,0,1,0,0], #Jaccard: 3,5,8,10,11,12,14,16,17,18,19,20,21,22,24\n",
    "    [0,0,1,0,1,0,0,1,0,1,1,1,0,1,0,1,1,1,1,1,1,1,0,1,0,0], #Ochiai: 3,5,8,10,11,12,14,16,17,18,19,20,21,22,24\n",
    "    [0,0,1,0,0,0,0,1,0,1,1,1,0,1,0,1,1,1,1,1,1,0,0,1,0,0]  #Tarantula: 3,5,8,10,11,12,14,16,17,18,19,20,21,24\n",
    "]\n",
    "\n",
    "#表示APR的結果有沒有正確，\n",
    "#0表示沒生成patch\n",
    "#1表示有生成但是沒成功\n",
    "#2表示有生成且成功\n",
    "APR_result = [\n",
    "    [0,0,0,0,0,0,0,0,0,0,0,0,0,2,0,0,0,0,0,0,0,0,0,0,0,0], #ACS\n",
    "    [0,0,2,1,1,0,0,0,1,0,0,0,1,0,0,0,1,0,0,0,1,0,0,0,1,1], #Nopol\n",
    "    [2,1,1,0,0,0,2,0,0,0,0,1,0,0,2,0,0,1,0,2,0,1,0,0,1,0], #SimFix\n",
    "    [2,1,0,1,0,0,2,2,2,0,2,2,1,1,0,1,0,1,1,2,0,1,0,2,1,2]  #TBar\n",
    "]"
   ]
  },
  {
   "cell_type": "code",
   "execution_count": 14,
   "metadata": {},
   "outputs": [
    {
     "name": "stdout",
     "output_type": "stream",
     "text": [
      "DStar\n",
      "Jaccard\n",
      "Ochiai\n",
      "Tarantula\n"
     ]
    }
   ],
   "source": [
    "#print(Top1[0])\n",
    "#print(Top1[0][7])\n",
    "\n",
    "#if Top1[0][7] == 1:\n",
    "#    print(\"AAA\")\n",
    "\n",
    "#for i in range(1,27):\n",
    "#    print(i)\n",
    "\n",
    "for i in SBFLlist:\n",
    "    print(i)"
   ]
  },
  {
   "cell_type": "code",
   "execution_count": 15,
   "metadata": {},
   "outputs": [],
   "source": [
    "#用於最後寫入用\n",
    "data = {\n",
    "    'bugid': [],\n",
    "    'combine': [],\n",
    "    'top-1': [],\n",
    "    'top-3': [],\n",
    "    'top-5': [],\n",
    "    'top-10': [],\n",
    "    '是否生成(0)/正確(1, 2)': [],\n",
    "    'correct patch/lable': [],\n",
    "    '標示用，不參與訓練': [],\n",
    "    '補充說明': []\n",
    "}\n",
    "#print(data['bugid'][0])"
   ]
  },
  {
   "cell_type": "code",
   "execution_count": 16,
   "metadata": {},
   "outputs": [
    {
     "name": "stdout",
     "output_type": "stream",
     "text": [
      "[10001, 10001, 10001, 10001, 10001, 10001, 10001, 10001, 10001, 10001, 10001, 10001, 10001, 10001, 10001, 10001, 10002, 10002, 10002, 10002, 10002, 10002, 10002, 10002, 10002, 10002, 10002, 10002, 10002, 10002, 10002, 10002, 10003, 10003, 10003, 10003, 10003, 10003, 10003, 10003, 10003, 10003, 10003, 10003, 10003, 10003, 10003, 10003, 10004, 10004, 10004, 10004, 10004, 10004, 10004, 10004, 10004, 10004, 10004, 10004, 10004, 10004, 10004, 10004, 10005, 10005, 10005, 10005, 10005, 10005, 10005, 10005, 10005, 10005, 10005, 10005, 10005, 10005, 10005, 10005, 10006, 10006, 10006, 10006, 10006, 10006, 10006, 10006, 10006, 10006, 10006, 10006, 10006, 10006, 10006, 10006, 10007, 10007, 10007, 10007, 10007, 10007, 10007, 10007, 10007, 10007, 10007, 10007, 10007, 10007, 10007, 10007, 10008, 10008, 10008, 10008, 10008, 10008, 10008, 10008, 10008, 10008, 10008, 10008, 10008, 10008, 10008, 10008, 10009, 10009, 10009, 10009, 10009, 10009, 10009, 10009, 10009, 10009, 10009, 10009, 10009, 10009, 10009, 10009, 10010, 10010, 10010, 10010, 10010, 10010, 10010, 10010, 10010, 10010, 10010, 10010, 10010, 10010, 10010, 10010, 10011, 10011, 10011, 10011, 10011, 10011, 10011, 10011, 10011, 10011, 10011, 10011, 10011, 10011, 10011, 10011, 10012, 10012, 10012, 10012, 10012, 10012, 10012, 10012, 10012, 10012, 10012, 10012, 10012, 10012, 10012, 10012, 10013, 10013, 10013, 10013, 10013, 10013, 10013, 10013, 10013, 10013, 10013, 10013, 10013, 10013, 10013, 10013, 10014, 10014, 10014, 10014, 10014, 10014, 10014, 10014, 10014, 10014, 10014, 10014, 10014, 10014, 10014, 10014, 10015, 10015, 10015, 10015, 10015, 10015, 10015, 10015, 10015, 10015, 10015, 10015, 10015, 10015, 10015, 10015, 10016, 10016, 10016, 10016, 10016, 10016, 10016, 10016, 10016, 10016, 10016, 10016, 10016, 10016, 10016, 10016, 10017, 10017, 10017, 10017, 10017, 10017, 10017, 10017, 10017, 10017, 10017, 10017, 10017, 10017, 10017, 10017, 10018, 10018, 10018, 10018, 10018, 10018, 10018, 10018, 10018, 10018, 10018, 10018, 10018, 10018, 10018, 10018, 10019, 10019, 10019, 10019, 10019, 10019, 10019, 10019, 10019, 10019, 10019, 10019, 10019, 10019, 10019, 10019, 10020, 10020, 10020, 10020, 10020, 10020, 10020, 10020, 10020, 10020, 10020, 10020, 10020, 10020, 10020, 10020, 10021, 10021, 10021, 10021, 10021, 10021, 10021, 10021, 10021, 10021, 10021, 10021, 10021, 10021, 10021, 10021, 10022, 10022, 10022, 10022, 10022, 10022, 10022, 10022, 10022, 10022, 10022, 10022, 10022, 10022, 10022, 10022, 10023, 10023, 10023, 10023, 10023, 10023, 10023, 10023, 10023, 10023, 10023, 10023, 10023, 10023, 10023, 10023, 10024, 10024, 10024, 10024, 10024, 10024, 10024, 10024, 10024, 10024, 10024, 10024, 10024, 10024, 10024, 10024, 10025, 10025, 10025, 10025, 10025, 10025, 10025, 10025, 10025, 10025, 10025, 10025, 10025, 10025, 10025, 10025, 10026, 10026, 10026, 10026, 10026, 10026, 10026, 10026, 10026, 10026, 10026, 10026, 10026, 10026, 10026, 10026]\n",
      "416\n",
      "[1, 2, 3, 4, 5, 6, 7, 8, 9, 10, 11, 12, 13, 14, 15, 16, 1, 2, 3, 4, 5, 6, 7, 8, 9, 10, 11, 12, 13, 14, 15, 16, 1, 2, 3, 4, 5, 6, 7, 8, 9, 10, 11, 12, 13, 14, 15, 16, 1, 2, 3, 4, 5, 6, 7, 8, 9, 10, 11, 12, 13, 14, 15, 16, 1, 2, 3, 4, 5, 6, 7, 8, 9, 10, 11, 12, 13, 14, 15, 16, 1, 2, 3, 4, 5, 6, 7, 8, 9, 10, 11, 12, 13, 14, 15, 16, 1, 2, 3, 4, 5, 6, 7, 8, 9, 10, 11, 12, 13, 14, 15, 16, 1, 2, 3, 4, 5, 6, 7, 8, 9, 10, 11, 12, 13, 14, 15, 16, 1, 2, 3, 4, 5, 6, 7, 8, 9, 10, 11, 12, 13, 14, 15, 16, 1, 2, 3, 4, 5, 6, 7, 8, 9, 10, 11, 12, 13, 14, 15, 16, 1, 2, 3, 4, 5, 6, 7, 8, 9, 10, 11, 12, 13, 14, 15, 16, 1, 2, 3, 4, 5, 6, 7, 8, 9, 10, 11, 12, 13, 14, 15, 16, 1, 2, 3, 4, 5, 6, 7, 8, 9, 10, 11, 12, 13, 14, 15, 16, 1, 2, 3, 4, 5, 6, 7, 8, 9, 10, 11, 12, 13, 14, 15, 16, 1, 2, 3, 4, 5, 6, 7, 8, 9, 10, 11, 12, 13, 14, 15, 16, 1, 2, 3, 4, 5, 6, 7, 8, 9, 10, 11, 12, 13, 14, 15, 16, 1, 2, 3, 4, 5, 6, 7, 8, 9, 10, 11, 12, 13, 14, 15, 16, 1, 2, 3, 4, 5, 6, 7, 8, 9, 10, 11, 12, 13, 14, 15, 16, 1, 2, 3, 4, 5, 6, 7, 8, 9, 10, 11, 12, 13, 14, 15, 16, 1, 2, 3, 4, 5, 6, 7, 8, 9, 10, 11, 12, 13, 14, 15, 16, 1, 2, 3, 4, 5, 6, 7, 8, 9, 10, 11, 12, 13, 14, 15, 16, 1, 2, 3, 4, 5, 6, 7, 8, 9, 10, 11, 12, 13, 14, 15, 16, 1, 2, 3, 4, 5, 6, 7, 8, 9, 10, 11, 12, 13, 14, 15, 16, 1, 2, 3, 4, 5, 6, 7, 8, 9, 10, 11, 12, 13, 14, 15, 16, 1, 2, 3, 4, 5, 6, 7, 8, 9, 10, 11, 12, 13, 14, 15, 16, 1, 2, 3, 4, 5, 6, 7, 8, 9, 10, 11, 12, 13, 14, 15, 16]\n",
      "416\n",
      "[0, 0, 0, 0, 0, 0, 0, 0, 0, 0, 0, 0, 0, 0, 0, 0, 0, 0, 0, 0, 0, 0, 0, 0, 0, 0, 0, 0, 0, 0, 0, 0, 0, 0, 0, 0, 0, 0, 0, 0, 0, 0, 0, 0, 0, 0, 0, 0, 0, 0, 0, 0, 0, 0, 0, 0, 0, 0, 0, 0, 0, 0, 0, 0, 0, 0, 0, 0, 0, 0, 0, 0, 0, 0, 0, 0, 0, 0, 0, 0, 0, 0, 0, 0, 0, 0, 0, 0, 0, 0, 0, 0, 0, 0, 0, 0, 0, 0, 0, 0, 0, 0, 0, 0, 0, 0, 0, 0, 0, 0, 0, 0, 1, 1, 1, 1, 1, 1, 1, 1, 1, 1, 1, 1, 1, 1, 1, 1, 0, 0, 0, 0, 0, 0, 0, 0, 0, 0, 0, 0, 0, 0, 0, 0, 0, 0, 0, 0, 0, 0, 0, 0, 0, 0, 0, 0, 0, 0, 0, 0, 0, 0, 0, 0, 0, 0, 0, 0, 0, 0, 0, 0, 0, 0, 0, 0, 0, 0, 0, 0, 0, 0, 0, 0, 0, 0, 0, 0, 0, 0, 0, 0, 0, 0, 0, 0, 0, 0, 0, 0, 0, 0, 0, 0, 0, 0, 0, 0, 0, 0, 0, 0, 0, 0, 0, 0, 0, 0, 0, 0, 0, 0, 0, 0, 0, 0, 0, 0, 0, 0, 0, 0, 0, 0, 0, 0, 0, 0, 0, 0, 1, 1, 1, 1, 1, 1, 1, 1, 1, 1, 1, 1, 0, 0, 0, 0, 0, 0, 0, 0, 0, 0, 0, 0, 0, 0, 0, 0, 0, 0, 0, 0, 1, 1, 1, 1, 0, 0, 0, 0, 0, 0, 0, 0, 0, 0, 0, 0, 1, 1, 1, 1, 1, 1, 1, 1, 1, 1, 1, 1, 1, 1, 1, 1, 0, 0, 0, 0, 1, 1, 1, 1, 0, 0, 0, 0, 0, 0, 0, 0, 0, 0, 0, 0, 0, 0, 0, 0, 0, 0, 0, 0, 0, 0, 0, 0, 0, 0, 0, 0, 0, 0, 0, 0, 0, 0, 0, 0, 0, 0, 0, 0, 0, 0, 0, 0, 0, 0, 0, 0, 0, 0, 0, 0, 0, 0, 0, 0, 0, 0, 0, 0, 0, 0, 0, 0, 0, 0, 0, 0, 0, 0, 0, 0, 0, 0, 0, 0, 0, 0, 0, 0, 0, 0, 0, 0, 0, 0, 0, 0, 0, 0, 0, 0, 0, 0, 0, 0, 0, 0, 0, 0, 0, 0, 0, 0]\n",
      "416\n",
      "[0, 0, 0, 0, 0, 0, 0, 0, 0, 0, 0, 0, 0, 0, 0, 0, 0, 0, 0, 0, 0, 0, 0, 0, 0, 0, 0, 0, 0, 0, 0, 0, 1, 1, 1, 1, 1, 1, 1, 1, 1, 1, 1, 1, 1, 1, 1, 1, 0, 0, 0, 0, 0, 0, 0, 0, 0, 0, 0, 0, 0, 0, 0, 0, 0, 0, 0, 0, 0, 0, 0, 0, 0, 0, 0, 0, 0, 0, 0, 0, 0, 0, 0, 0, 0, 0, 0, 0, 0, 0, 0, 0, 0, 0, 0, 0, 0, 0, 0, 0, 0, 0, 0, 0, 0, 0, 0, 0, 0, 0, 0, 0, 1, 1, 1, 1, 1, 1, 1, 1, 1, 1, 1, 1, 1, 1, 1, 1, 0, 0, 0, 0, 0, 0, 0, 0, 0, 0, 0, 0, 0, 0, 0, 0, 0, 0, 0, 0, 1, 1, 1, 1, 1, 1, 1, 1, 1, 1, 1, 1, 0, 0, 0, 0, 0, 0, 0, 0, 0, 0, 0, 0, 0, 0, 0, 0, 0, 0, 0, 0, 0, 0, 0, 0, 0, 0, 0, 0, 0, 0, 0, 0, 0, 0, 0, 0, 0, 0, 0, 0, 0, 0, 0, 0, 0, 0, 0, 0, 0, 0, 0, 0, 0, 0, 0, 0, 0, 0, 0, 0, 0, 0, 0, 0, 0, 0, 0, 0, 0, 0, 0, 0, 0, 0, 0, 0, 0, 0, 0, 0, 1, 1, 1, 1, 1, 1, 1, 1, 1, 1, 1, 1, 1, 1, 1, 1, 1, 1, 1, 1, 1, 1, 1, 1, 1, 1, 1, 1, 1, 1, 1, 1, 1, 1, 1, 1, 1, 1, 1, 1, 1, 1, 1, 1, 0, 0, 0, 0, 1, 1, 1, 1, 1, 1, 1, 1, 1, 1, 1, 1, 1, 1, 1, 1, 0, 0, 0, 0, 1, 1, 1, 1, 0, 0, 0, 0, 0, 0, 0, 0, 1, 1, 1, 1, 0, 0, 0, 0, 0, 0, 0, 0, 0, 0, 0, 0, 0, 0, 0, 0, 0, 0, 0, 0, 0, 0, 0, 0, 0, 0, 0, 0, 0, 0, 0, 0, 0, 0, 0, 0, 0, 0, 0, 0, 0, 0, 0, 0, 0, 0, 0, 0, 1, 1, 1, 1, 1, 1, 1, 1, 1, 1, 1, 1, 0, 0, 0, 0, 0, 0, 0, 0, 0, 0, 0, 0, 0, 0, 0, 0, 0, 0, 0, 0, 0, 0, 0, 0, 0, 0, 0, 0, 0, 0, 0, 0]\n",
      "416\n",
      "[0, 0, 0, 0, 0, 0, 0, 0, 0, 0, 0, 0, 0, 0, 0, 0, 0, 0, 0, 0, 0, 0, 0, 0, 0, 0, 0, 0, 0, 0, 0, 0, 1, 1, 1, 1, 1, 1, 1, 1, 1, 1, 1, 1, 1, 1, 1, 1, 0, 0, 0, 0, 0, 0, 0, 0, 0, 0, 0, 0, 0, 0, 0, 0, 0, 0, 0, 0, 0, 0, 0, 0, 0, 0, 0, 0, 0, 0, 0, 0, 0, 0, 0, 0, 0, 0, 0, 0, 0, 0, 0, 0, 0, 0, 0, 0, 0, 0, 0, 0, 0, 0, 0, 0, 0, 0, 0, 0, 0, 0, 0, 0, 1, 1, 1, 1, 1, 1, 1, 1, 1, 1, 1, 1, 1, 1, 1, 1, 0, 0, 0, 0, 0, 0, 0, 0, 0, 0, 0, 0, 0, 0, 0, 0, 0, 0, 0, 0, 1, 1, 1, 1, 1, 1, 1, 1, 1, 1, 1, 1, 1, 1, 1, 1, 1, 1, 1, 1, 1, 1, 1, 1, 1, 1, 1, 1, 0, 0, 0, 0, 0, 0, 0, 0, 0, 0, 0, 0, 0, 0, 0, 0, 0, 0, 0, 0, 0, 0, 0, 0, 0, 0, 0, 0, 0, 0, 0, 0, 0, 0, 0, 0, 0, 0, 0, 0, 0, 0, 0, 0, 0, 0, 0, 0, 0, 0, 0, 0, 0, 0, 0, 0, 0, 0, 0, 0, 0, 0, 0, 0, 1, 1, 1, 1, 1, 1, 1, 1, 1, 1, 1, 1, 1, 1, 1, 1, 1, 1, 1, 1, 1, 1, 1, 1, 1, 1, 1, 1, 1, 1, 1, 1, 1, 1, 1, 1, 1, 1, 1, 1, 1, 1, 1, 1, 1, 1, 1, 1, 1, 1, 1, 1, 1, 1, 1, 1, 1, 1, 1, 1, 1, 1, 1, 1, 1, 1, 1, 1, 1, 1, 1, 1, 1, 1, 1, 1, 1, 1, 1, 1, 1, 1, 1, 1, 0, 0, 0, 0, 0, 0, 0, 0, 0, 0, 0, 0, 0, 0, 0, 0, 0, 0, 0, 0, 0, 0, 0, 0, 0, 0, 0, 0, 0, 0, 0, 0, 0, 0, 0, 0, 0, 0, 0, 0, 0, 0, 0, 0, 0, 0, 0, 0, 1, 1, 1, 1, 1, 1, 1, 1, 1, 1, 1, 1, 0, 0, 0, 0, 0, 0, 0, 0, 0, 0, 0, 0, 0, 0, 0, 0, 0, 0, 0, 0, 0, 0, 0, 0, 0, 0, 0, 0, 0, 0, 0, 0]\n",
      "416\n",
      "[0, 0, 0, 0, 0, 0, 0, 0, 0, 0, 0, 0, 0, 0, 0, 0, 0, 0, 0, 0, 0, 0, 0, 0, 0, 0, 0, 0, 0, 0, 0, 0, 1, 1, 1, 1, 1, 1, 1, 1, 1, 1, 1, 1, 1, 1, 1, 1, 0, 0, 0, 0, 0, 0, 0, 0, 0, 0, 0, 0, 0, 0, 0, 0, 1, 1, 1, 1, 1, 1, 1, 1, 1, 1, 1, 1, 0, 0, 0, 0, 0, 0, 0, 0, 0, 0, 0, 0, 0, 0, 0, 0, 0, 0, 0, 0, 0, 0, 0, 0, 0, 0, 0, 0, 0, 0, 0, 0, 0, 0, 0, 0, 1, 1, 1, 1, 1, 1, 1, 1, 1, 1, 1, 1, 1, 1, 1, 1, 0, 0, 0, 0, 0, 0, 0, 0, 0, 0, 0, 0, 0, 0, 0, 0, 0, 0, 0, 0, 1, 1, 1, 1, 1, 1, 1, 1, 1, 1, 1, 1, 1, 1, 1, 1, 1, 1, 1, 1, 1, 1, 1, 1, 1, 1, 1, 1, 1, 1, 1, 1, 1, 1, 1, 1, 1, 1, 1, 1, 1, 1, 1, 1, 0, 0, 0, 0, 0, 0, 0, 0, 0, 0, 0, 0, 0, 0, 0, 0, 0, 0, 0, 0, 1, 1, 1, 1, 1, 1, 1, 1, 1, 1, 1, 1, 0, 0, 0, 0, 0, 0, 0, 0, 0, 0, 0, 0, 0, 0, 0, 0, 1, 1, 1, 1, 1, 1, 1, 1, 1, 1, 1, 1, 1, 1, 1, 1, 1, 1, 1, 1, 1, 1, 1, 1, 1, 1, 1, 1, 1, 1, 1, 1, 1, 1, 1, 1, 1, 1, 1, 1, 1, 1, 1, 1, 1, 1, 1, 1, 1, 1, 1, 1, 1, 1, 1, 1, 1, 1, 1, 1, 1, 1, 1, 1, 1, 1, 1, 1, 1, 1, 1, 1, 1, 1, 1, 1, 1, 1, 1, 1, 1, 1, 1, 1, 1, 1, 1, 1, 1, 1, 1, 1, 1, 1, 1, 1, 0, 0, 0, 0, 1, 1, 1, 1, 1, 1, 1, 1, 0, 0, 0, 0, 0, 0, 0, 0, 0, 0, 0, 0, 0, 0, 0, 0, 0, 0, 0, 0, 0, 0, 0, 0, 1, 1, 1, 1, 1, 1, 1, 1, 1, 1, 1, 1, 0, 0, 0, 0, 0, 0, 0, 0, 0, 0, 0, 0, 0, 0, 0, 0, 0, 0, 0, 0, 0, 0, 0, 0, 0, 0, 0, 0, 0, 0, 0, 0]\n",
      "416\n",
      "[0, 0, 2, 2, 0, 0, 2, 2, 0, 0, 2, 2, 0, 0, 2, 2, 0, 0, 1, 1, 0, 0, 1, 1, 0, 0, 1, 1, 0, 0, 1, 1, 0, 2, 1, 0, 0, 2, 1, 0, 0, 2, 1, 0, 0, 2, 1, 0, 0, 1, 0, 1, 0, 1, 0, 1, 0, 1, 0, 1, 0, 1, 0, 1, 0, 1, 0, 0, 0, 1, 0, 0, 0, 1, 0, 0, 0, 1, 0, 0, 0, 0, 0, 0, 0, 0, 0, 0, 0, 0, 0, 0, 0, 0, 0, 0, 0, 0, 2, 2, 0, 0, 2, 2, 0, 0, 2, 2, 0, 0, 2, 2, 0, 0, 0, 2, 0, 0, 0, 2, 0, 0, 0, 2, 0, 0, 0, 2, 0, 1, 0, 2, 0, 1, 0, 2, 0, 1, 0, 2, 0, 1, 0, 2, 0, 0, 0, 0, 0, 0, 0, 0, 0, 0, 0, 0, 0, 0, 0, 0, 0, 0, 0, 2, 0, 0, 0, 2, 0, 0, 0, 2, 0, 0, 0, 2, 0, 0, 1, 2, 0, 0, 1, 2, 0, 0, 1, 2, 0, 0, 1, 2, 0, 1, 0, 1, 0, 1, 0, 1, 0, 1, 0, 1, 0, 1, 0, 1, 2, 0, 0, 1, 2, 0, 0, 1, 2, 0, 0, 1, 2, 0, 0, 1, 0, 0, 2, 0, 0, 0, 2, 0, 0, 0, 2, 0, 0, 0, 2, 0, 0, 0, 0, 1, 0, 0, 0, 1, 0, 0, 0, 1, 0, 0, 0, 1, 0, 1, 0, 0, 0, 1, 0, 0, 0, 1, 0, 0, 0, 1, 0, 0, 0, 0, 1, 1, 0, 0, 1, 1, 0, 0, 1, 1, 0, 0, 1, 1, 0, 0, 0, 1, 0, 0, 0, 1, 0, 0, 0, 1, 0, 0, 0, 1, 0, 0, 2, 2, 0, 0, 2, 2, 0, 0, 2, 2, 0, 0, 2, 2, 0, 1, 0, 0, 0, 1, 0, 0, 0, 1, 0, 0, 0, 1, 0, 0, 0, 0, 1, 1, 0, 0, 1, 1, 0, 0, 1, 1, 0, 0, 1, 1, 0, 0, 0, 0, 0, 0, 0, 0, 0, 0, 0, 0, 0, 0, 0, 0, 0, 0, 0, 2, 0, 0, 0, 2, 0, 0, 0, 2, 0, 0, 0, 2, 0, 1, 1, 1, 0, 1, 1, 1, 0, 1, 1, 1, 0, 1, 1, 1, 0, 1, 0, 2, 0, 1, 0, 2, 0, 1, 0, 2, 0, 1, 0, 2]\n",
      "416\n",
      "[0, 0, 1, 1, 0, 0, 1, 1, 0, 0, 1, 1, 0, 0, 1, 1, 0, 0, 0, 0, 0, 0, 0, 0, 0, 0, 0, 0, 0, 0, 0, 0, 0, 1, 0, 0, 0, 1, 0, 0, 0, 1, 0, 0, 0, 1, 0, 0, 0, 0, 0, 0, 0, 0, 0, 0, 0, 0, 0, 0, 0, 0, 0, 0, 0, 0, 0, 0, 0, 0, 0, 0, 0, 0, 0, 0, 0, 0, 0, 0, 0, 0, 0, 0, 0, 0, 0, 0, 0, 0, 0, 0, 0, 0, 0, 0, 0, 0, 1, 1, 0, 0, 1, 1, 0, 0, 1, 1, 0, 0, 1, 1, 0, 0, 0, 1, 0, 0, 0, 1, 0, 0, 0, 1, 0, 0, 0, 1, 0, 0, 0, 1, 0, 0, 0, 1, 0, 0, 0, 1, 0, 0, 0, 1, 0, 0, 0, 0, 0, 0, 0, 0, 0, 0, 0, 0, 0, 0, 0, 0, 0, 0, 0, 1, 0, 0, 0, 1, 0, 0, 0, 1, 0, 0, 0, 1, 0, 0, 0, 1, 0, 0, 0, 1, 0, 0, 0, 1, 0, 0, 0, 1, 0, 0, 0, 0, 0, 0, 0, 0, 0, 0, 0, 0, 0, 0, 0, 0, 1, 0, 0, 0, 1, 0, 0, 0, 1, 0, 0, 0, 1, 0, 0, 0, 0, 0, 1, 0, 0, 0, 1, 0, 0, 0, 1, 0, 0, 0, 1, 0, 0, 0, 0, 0, 0, 0, 0, 0, 0, 0, 0, 0, 0, 0, 0, 0, 0, 0, 0, 0, 0, 0, 0, 0, 0, 0, 0, 0, 0, 0, 0, 0, 0, 0, 0, 0, 0, 0, 0, 0, 0, 0, 0, 0, 0, 0, 0, 0, 0, 0, 0, 0, 0, 0, 0, 0, 0, 0, 0, 0, 0, 0, 0, 0, 0, 0, 1, 1, 0, 0, 1, 1, 0, 0, 1, 1, 0, 0, 1, 1, 0, 0, 0, 0, 0, 0, 0, 0, 0, 0, 0, 0, 0, 0, 0, 0, 0, 0, 0, 0, 0, 0, 0, 0, 0, 0, 0, 0, 0, 0, 0, 0, 0, 0, 0, 0, 0, 0, 0, 0, 0, 0, 0, 0, 0, 0, 0, 0, 0, 0, 0, 1, 0, 0, 0, 1, 0, 0, 0, 1, 0, 0, 0, 1, 0, 0, 0, 0, 0, 0, 0, 0, 0, 0, 0, 0, 0, 0, 0, 0, 0, 0, 0, 1, 0, 0, 0, 1, 0, 0, 0, 1, 0, 0, 0, 1]\n",
      "416\n",
      "['chart-1, DStar, ACS, combine: 1', 'chart-1, DStar, Nopol, combine: 2', 'chart-1, DStar, SimFix, combine: 3', 'chart-1, DStar, TBar, combine: 4', 'chart-1, Jaccard, ACS, combine: 5', 'chart-1, Jaccard, Nopol, combine: 6', 'chart-1, Jaccard, SimFix, combine: 7', 'chart-1, Jaccard, TBar, combine: 8', 'chart-1, Ochiai, ACS, combine: 9', 'chart-1, Ochiai, Nopol, combine: 10', 'chart-1, Ochiai, SimFix, combine: 11', 'chart-1, Ochiai, TBar, combine: 12', 'chart-1, Tarantula, ACS, combine: 13', 'chart-1, Tarantula, Nopol, combine: 14', 'chart-1, Tarantula, SimFix, combine: 15', 'chart-1, Tarantula, TBar, combine: 16', 'chart-2, DStar, ACS, combine: 1', 'chart-2, DStar, Nopol, combine: 2', 'chart-2, DStar, SimFix, combine: 3', 'chart-2, DStar, TBar, combine: 4', 'chart-2, Jaccard, ACS, combine: 5', 'chart-2, Jaccard, Nopol, combine: 6', 'chart-2, Jaccard, SimFix, combine: 7', 'chart-2, Jaccard, TBar, combine: 8', 'chart-2, Ochiai, ACS, combine: 9', 'chart-2, Ochiai, Nopol, combine: 10', 'chart-2, Ochiai, SimFix, combine: 11', 'chart-2, Ochiai, TBar, combine: 12', 'chart-2, Tarantula, ACS, combine: 13', 'chart-2, Tarantula, Nopol, combine: 14', 'chart-2, Tarantula, SimFix, combine: 15', 'chart-2, Tarantula, TBar, combine: 16', 'chart-3, DStar, ACS, combine: 1', 'chart-3, DStar, Nopol, combine: 2', 'chart-3, DStar, SimFix, combine: 3', 'chart-3, DStar, TBar, combine: 4', 'chart-3, Jaccard, ACS, combine: 5', 'chart-3, Jaccard, Nopol, combine: 6', 'chart-3, Jaccard, SimFix, combine: 7', 'chart-3, Jaccard, TBar, combine: 8', 'chart-3, Ochiai, ACS, combine: 9', 'chart-3, Ochiai, Nopol, combine: 10', 'chart-3, Ochiai, SimFix, combine: 11', 'chart-3, Ochiai, TBar, combine: 12', 'chart-3, Tarantula, ACS, combine: 13', 'chart-3, Tarantula, Nopol, combine: 14', 'chart-3, Tarantula, SimFix, combine: 15', 'chart-3, Tarantula, TBar, combine: 16', 'chart-4, DStar, ACS, combine: 1', 'chart-4, DStar, Nopol, combine: 2', 'chart-4, DStar, SimFix, combine: 3', 'chart-4, DStar, TBar, combine: 4', 'chart-4, Jaccard, ACS, combine: 5', 'chart-4, Jaccard, Nopol, combine: 6', 'chart-4, Jaccard, SimFix, combine: 7', 'chart-4, Jaccard, TBar, combine: 8', 'chart-4, Ochiai, ACS, combine: 9', 'chart-4, Ochiai, Nopol, combine: 10', 'chart-4, Ochiai, SimFix, combine: 11', 'chart-4, Ochiai, TBar, combine: 12', 'chart-4, Tarantula, ACS, combine: 13', 'chart-4, Tarantula, Nopol, combine: 14', 'chart-4, Tarantula, SimFix, combine: 15', 'chart-4, Tarantula, TBar, combine: 16', 'chart-5, DStar, ACS, combine: 1', 'chart-5, DStar, Nopol, combine: 2', 'chart-5, DStar, SimFix, combine: 3', 'chart-5, DStar, TBar, combine: 4', 'chart-5, Jaccard, ACS, combine: 5', 'chart-5, Jaccard, Nopol, combine: 6', 'chart-5, Jaccard, SimFix, combine: 7', 'chart-5, Jaccard, TBar, combine: 8', 'chart-5, Ochiai, ACS, combine: 9', 'chart-5, Ochiai, Nopol, combine: 10', 'chart-5, Ochiai, SimFix, combine: 11', 'chart-5, Ochiai, TBar, combine: 12', 'chart-5, Tarantula, ACS, combine: 13', 'chart-5, Tarantula, Nopol, combine: 14', 'chart-5, Tarantula, SimFix, combine: 15', 'chart-5, Tarantula, TBar, combine: 16', 'chart-6, DStar, ACS, combine: 1', 'chart-6, DStar, Nopol, combine: 2', 'chart-6, DStar, SimFix, combine: 3', 'chart-6, DStar, TBar, combine: 4', 'chart-6, Jaccard, ACS, combine: 5', 'chart-6, Jaccard, Nopol, combine: 6', 'chart-6, Jaccard, SimFix, combine: 7', 'chart-6, Jaccard, TBar, combine: 8', 'chart-6, Ochiai, ACS, combine: 9', 'chart-6, Ochiai, Nopol, combine: 10', 'chart-6, Ochiai, SimFix, combine: 11', 'chart-6, Ochiai, TBar, combine: 12', 'chart-6, Tarantula, ACS, combine: 13', 'chart-6, Tarantula, Nopol, combine: 14', 'chart-6, Tarantula, SimFix, combine: 15', 'chart-6, Tarantula, TBar, combine: 16', 'chart-7, DStar, ACS, combine: 1', 'chart-7, DStar, Nopol, combine: 2', 'chart-7, DStar, SimFix, combine: 3', 'chart-7, DStar, TBar, combine: 4', 'chart-7, Jaccard, ACS, combine: 5', 'chart-7, Jaccard, Nopol, combine: 6', 'chart-7, Jaccard, SimFix, combine: 7', 'chart-7, Jaccard, TBar, combine: 8', 'chart-7, Ochiai, ACS, combine: 9', 'chart-7, Ochiai, Nopol, combine: 10', 'chart-7, Ochiai, SimFix, combine: 11', 'chart-7, Ochiai, TBar, combine: 12', 'chart-7, Tarantula, ACS, combine: 13', 'chart-7, Tarantula, Nopol, combine: 14', 'chart-7, Tarantula, SimFix, combine: 15', 'chart-7, Tarantula, TBar, combine: 16', 'chart-8, DStar, ACS, combine: 1', 'chart-8, DStar, Nopol, combine: 2', 'chart-8, DStar, SimFix, combine: 3', 'chart-8, DStar, TBar, combine: 4', 'chart-8, Jaccard, ACS, combine: 5', 'chart-8, Jaccard, Nopol, combine: 6', 'chart-8, Jaccard, SimFix, combine: 7', 'chart-8, Jaccard, TBar, combine: 8', 'chart-8, Ochiai, ACS, combine: 9', 'chart-8, Ochiai, Nopol, combine: 10', 'chart-8, Ochiai, SimFix, combine: 11', 'chart-8, Ochiai, TBar, combine: 12', 'chart-8, Tarantula, ACS, combine: 13', 'chart-8, Tarantula, Nopol, combine: 14', 'chart-8, Tarantula, SimFix, combine: 15', 'chart-8, Tarantula, TBar, combine: 16', 'chart-9, DStar, ACS, combine: 1', 'chart-9, DStar, Nopol, combine: 2', 'chart-9, DStar, SimFix, combine: 3', 'chart-9, DStar, TBar, combine: 4', 'chart-9, Jaccard, ACS, combine: 5', 'chart-9, Jaccard, Nopol, combine: 6', 'chart-9, Jaccard, SimFix, combine: 7', 'chart-9, Jaccard, TBar, combine: 8', 'chart-9, Ochiai, ACS, combine: 9', 'chart-9, Ochiai, Nopol, combine: 10', 'chart-9, Ochiai, SimFix, combine: 11', 'chart-9, Ochiai, TBar, combine: 12', 'chart-9, Tarantula, ACS, combine: 13', 'chart-9, Tarantula, Nopol, combine: 14', 'chart-9, Tarantula, SimFix, combine: 15', 'chart-9, Tarantula, TBar, combine: 16', 'chart-10, DStar, ACS, combine: 1', 'chart-10, DStar, Nopol, combine: 2', 'chart-10, DStar, SimFix, combine: 3', 'chart-10, DStar, TBar, combine: 4', 'chart-10, Jaccard, ACS, combine: 5', 'chart-10, Jaccard, Nopol, combine: 6', 'chart-10, Jaccard, SimFix, combine: 7', 'chart-10, Jaccard, TBar, combine: 8', 'chart-10, Ochiai, ACS, combine: 9', 'chart-10, Ochiai, Nopol, combine: 10', 'chart-10, Ochiai, SimFix, combine: 11', 'chart-10, Ochiai, TBar, combine: 12', 'chart-10, Tarantula, ACS, combine: 13', 'chart-10, Tarantula, Nopol, combine: 14', 'chart-10, Tarantula, SimFix, combine: 15', 'chart-10, Tarantula, TBar, combine: 16', 'chart-11, DStar, ACS, combine: 1', 'chart-11, DStar, Nopol, combine: 2', 'chart-11, DStar, SimFix, combine: 3', 'chart-11, DStar, TBar, combine: 4', 'chart-11, Jaccard, ACS, combine: 5', 'chart-11, Jaccard, Nopol, combine: 6', 'chart-11, Jaccard, SimFix, combine: 7', 'chart-11, Jaccard, TBar, combine: 8', 'chart-11, Ochiai, ACS, combine: 9', 'chart-11, Ochiai, Nopol, combine: 10', 'chart-11, Ochiai, SimFix, combine: 11', 'chart-11, Ochiai, TBar, combine: 12', 'chart-11, Tarantula, ACS, combine: 13', 'chart-11, Tarantula, Nopol, combine: 14', 'chart-11, Tarantula, SimFix, combine: 15', 'chart-11, Tarantula, TBar, combine: 16', 'chart-12, DStar, ACS, combine: 1', 'chart-12, DStar, Nopol, combine: 2', 'chart-12, DStar, SimFix, combine: 3', 'chart-12, DStar, TBar, combine: 4', 'chart-12, Jaccard, ACS, combine: 5', 'chart-12, Jaccard, Nopol, combine: 6', 'chart-12, Jaccard, SimFix, combine: 7', 'chart-12, Jaccard, TBar, combine: 8', 'chart-12, Ochiai, ACS, combine: 9', 'chart-12, Ochiai, Nopol, combine: 10', 'chart-12, Ochiai, SimFix, combine: 11', 'chart-12, Ochiai, TBar, combine: 12', 'chart-12, Tarantula, ACS, combine: 13', 'chart-12, Tarantula, Nopol, combine: 14', 'chart-12, Tarantula, SimFix, combine: 15', 'chart-12, Tarantula, TBar, combine: 16', 'chart-13, DStar, ACS, combine: 1', 'chart-13, DStar, Nopol, combine: 2', 'chart-13, DStar, SimFix, combine: 3', 'chart-13, DStar, TBar, combine: 4', 'chart-13, Jaccard, ACS, combine: 5', 'chart-13, Jaccard, Nopol, combine: 6', 'chart-13, Jaccard, SimFix, combine: 7', 'chart-13, Jaccard, TBar, combine: 8', 'chart-13, Ochiai, ACS, combine: 9', 'chart-13, Ochiai, Nopol, combine: 10', 'chart-13, Ochiai, SimFix, combine: 11', 'chart-13, Ochiai, TBar, combine: 12', 'chart-13, Tarantula, ACS, combine: 13', 'chart-13, Tarantula, Nopol, combine: 14', 'chart-13, Tarantula, SimFix, combine: 15', 'chart-13, Tarantula, TBar, combine: 16', 'chart-14, DStar, ACS, combine: 1', 'chart-14, DStar, Nopol, combine: 2', 'chart-14, DStar, SimFix, combine: 3', 'chart-14, DStar, TBar, combine: 4', 'chart-14, Jaccard, ACS, combine: 5', 'chart-14, Jaccard, Nopol, combine: 6', 'chart-14, Jaccard, SimFix, combine: 7', 'chart-14, Jaccard, TBar, combine: 8', 'chart-14, Ochiai, ACS, combine: 9', 'chart-14, Ochiai, Nopol, combine: 10', 'chart-14, Ochiai, SimFix, combine: 11', 'chart-14, Ochiai, TBar, combine: 12', 'chart-14, Tarantula, ACS, combine: 13', 'chart-14, Tarantula, Nopol, combine: 14', 'chart-14, Tarantula, SimFix, combine: 15', 'chart-14, Tarantula, TBar, combine: 16', 'chart-15, DStar, ACS, combine: 1', 'chart-15, DStar, Nopol, combine: 2', 'chart-15, DStar, SimFix, combine: 3', 'chart-15, DStar, TBar, combine: 4', 'chart-15, Jaccard, ACS, combine: 5', 'chart-15, Jaccard, Nopol, combine: 6', 'chart-15, Jaccard, SimFix, combine: 7', 'chart-15, Jaccard, TBar, combine: 8', 'chart-15, Ochiai, ACS, combine: 9', 'chart-15, Ochiai, Nopol, combine: 10', 'chart-15, Ochiai, SimFix, combine: 11', 'chart-15, Ochiai, TBar, combine: 12', 'chart-15, Tarantula, ACS, combine: 13', 'chart-15, Tarantula, Nopol, combine: 14', 'chart-15, Tarantula, SimFix, combine: 15', 'chart-15, Tarantula, TBar, combine: 16', 'chart-16, DStar, ACS, combine: 1', 'chart-16, DStar, Nopol, combine: 2', 'chart-16, DStar, SimFix, combine: 3', 'chart-16, DStar, TBar, combine: 4', 'chart-16, Jaccard, ACS, combine: 5', 'chart-16, Jaccard, Nopol, combine: 6', 'chart-16, Jaccard, SimFix, combine: 7', 'chart-16, Jaccard, TBar, combine: 8', 'chart-16, Ochiai, ACS, combine: 9', 'chart-16, Ochiai, Nopol, combine: 10', 'chart-16, Ochiai, SimFix, combine: 11', 'chart-16, Ochiai, TBar, combine: 12', 'chart-16, Tarantula, ACS, combine: 13', 'chart-16, Tarantula, Nopol, combine: 14', 'chart-16, Tarantula, SimFix, combine: 15', 'chart-16, Tarantula, TBar, combine: 16', 'chart-17, DStar, ACS, combine: 1', 'chart-17, DStar, Nopol, combine: 2', 'chart-17, DStar, SimFix, combine: 3', 'chart-17, DStar, TBar, combine: 4', 'chart-17, Jaccard, ACS, combine: 5', 'chart-17, Jaccard, Nopol, combine: 6', 'chart-17, Jaccard, SimFix, combine: 7', 'chart-17, Jaccard, TBar, combine: 8', 'chart-17, Ochiai, ACS, combine: 9', 'chart-17, Ochiai, Nopol, combine: 10', 'chart-17, Ochiai, SimFix, combine: 11', 'chart-17, Ochiai, TBar, combine: 12', 'chart-17, Tarantula, ACS, combine: 13', 'chart-17, Tarantula, Nopol, combine: 14', 'chart-17, Tarantula, SimFix, combine: 15', 'chart-17, Tarantula, TBar, combine: 16', 'chart-18, DStar, ACS, combine: 1', 'chart-18, DStar, Nopol, combine: 2', 'chart-18, DStar, SimFix, combine: 3', 'chart-18, DStar, TBar, combine: 4', 'chart-18, Jaccard, ACS, combine: 5', 'chart-18, Jaccard, Nopol, combine: 6', 'chart-18, Jaccard, SimFix, combine: 7', 'chart-18, Jaccard, TBar, combine: 8', 'chart-18, Ochiai, ACS, combine: 9', 'chart-18, Ochiai, Nopol, combine: 10', 'chart-18, Ochiai, SimFix, combine: 11', 'chart-18, Ochiai, TBar, combine: 12', 'chart-18, Tarantula, ACS, combine: 13', 'chart-18, Tarantula, Nopol, combine: 14', 'chart-18, Tarantula, SimFix, combine: 15', 'chart-18, Tarantula, TBar, combine: 16', 'chart-19, DStar, ACS, combine: 1', 'chart-19, DStar, Nopol, combine: 2', 'chart-19, DStar, SimFix, combine: 3', 'chart-19, DStar, TBar, combine: 4', 'chart-19, Jaccard, ACS, combine: 5', 'chart-19, Jaccard, Nopol, combine: 6', 'chart-19, Jaccard, SimFix, combine: 7', 'chart-19, Jaccard, TBar, combine: 8', 'chart-19, Ochiai, ACS, combine: 9', 'chart-19, Ochiai, Nopol, combine: 10', 'chart-19, Ochiai, SimFix, combine: 11', 'chart-19, Ochiai, TBar, combine: 12', 'chart-19, Tarantula, ACS, combine: 13', 'chart-19, Tarantula, Nopol, combine: 14', 'chart-19, Tarantula, SimFix, combine: 15', 'chart-19, Tarantula, TBar, combine: 16', 'chart-20, DStar, ACS, combine: 1', 'chart-20, DStar, Nopol, combine: 2', 'chart-20, DStar, SimFix, combine: 3', 'chart-20, DStar, TBar, combine: 4', 'chart-20, Jaccard, ACS, combine: 5', 'chart-20, Jaccard, Nopol, combine: 6', 'chart-20, Jaccard, SimFix, combine: 7', 'chart-20, Jaccard, TBar, combine: 8', 'chart-20, Ochiai, ACS, combine: 9', 'chart-20, Ochiai, Nopol, combine: 10', 'chart-20, Ochiai, SimFix, combine: 11', 'chart-20, Ochiai, TBar, combine: 12', 'chart-20, Tarantula, ACS, combine: 13', 'chart-20, Tarantula, Nopol, combine: 14', 'chart-20, Tarantula, SimFix, combine: 15', 'chart-20, Tarantula, TBar, combine: 16', 'chart-21, DStar, ACS, combine: 1', 'chart-21, DStar, Nopol, combine: 2', 'chart-21, DStar, SimFix, combine: 3', 'chart-21, DStar, TBar, combine: 4', 'chart-21, Jaccard, ACS, combine: 5', 'chart-21, Jaccard, Nopol, combine: 6', 'chart-21, Jaccard, SimFix, combine: 7', 'chart-21, Jaccard, TBar, combine: 8', 'chart-21, Ochiai, ACS, combine: 9', 'chart-21, Ochiai, Nopol, combine: 10', 'chart-21, Ochiai, SimFix, combine: 11', 'chart-21, Ochiai, TBar, combine: 12', 'chart-21, Tarantula, ACS, combine: 13', 'chart-21, Tarantula, Nopol, combine: 14', 'chart-21, Tarantula, SimFix, combine: 15', 'chart-21, Tarantula, TBar, combine: 16', 'chart-22, DStar, ACS, combine: 1', 'chart-22, DStar, Nopol, combine: 2', 'chart-22, DStar, SimFix, combine: 3', 'chart-22, DStar, TBar, combine: 4', 'chart-22, Jaccard, ACS, combine: 5', 'chart-22, Jaccard, Nopol, combine: 6', 'chart-22, Jaccard, SimFix, combine: 7', 'chart-22, Jaccard, TBar, combine: 8', 'chart-22, Ochiai, ACS, combine: 9', 'chart-22, Ochiai, Nopol, combine: 10', 'chart-22, Ochiai, SimFix, combine: 11', 'chart-22, Ochiai, TBar, combine: 12', 'chart-22, Tarantula, ACS, combine: 13', 'chart-22, Tarantula, Nopol, combine: 14', 'chart-22, Tarantula, SimFix, combine: 15', 'chart-22, Tarantula, TBar, combine: 16', 'chart-23, DStar, ACS, combine: 1', 'chart-23, DStar, Nopol, combine: 2', 'chart-23, DStar, SimFix, combine: 3', 'chart-23, DStar, TBar, combine: 4', 'chart-23, Jaccard, ACS, combine: 5', 'chart-23, Jaccard, Nopol, combine: 6', 'chart-23, Jaccard, SimFix, combine: 7', 'chart-23, Jaccard, TBar, combine: 8', 'chart-23, Ochiai, ACS, combine: 9', 'chart-23, Ochiai, Nopol, combine: 10', 'chart-23, Ochiai, SimFix, combine: 11', 'chart-23, Ochiai, TBar, combine: 12', 'chart-23, Tarantula, ACS, combine: 13', 'chart-23, Tarantula, Nopol, combine: 14', 'chart-23, Tarantula, SimFix, combine: 15', 'chart-23, Tarantula, TBar, combine: 16', 'chart-24, DStar, ACS, combine: 1', 'chart-24, DStar, Nopol, combine: 2', 'chart-24, DStar, SimFix, combine: 3', 'chart-24, DStar, TBar, combine: 4', 'chart-24, Jaccard, ACS, combine: 5', 'chart-24, Jaccard, Nopol, combine: 6', 'chart-24, Jaccard, SimFix, combine: 7', 'chart-24, Jaccard, TBar, combine: 8', 'chart-24, Ochiai, ACS, combine: 9', 'chart-24, Ochiai, Nopol, combine: 10', 'chart-24, Ochiai, SimFix, combine: 11', 'chart-24, Ochiai, TBar, combine: 12', 'chart-24, Tarantula, ACS, combine: 13', 'chart-24, Tarantula, Nopol, combine: 14', 'chart-24, Tarantula, SimFix, combine: 15', 'chart-24, Tarantula, TBar, combine: 16', 'chart-25, DStar, ACS, combine: 1', 'chart-25, DStar, Nopol, combine: 2', 'chart-25, DStar, SimFix, combine: 3', 'chart-25, DStar, TBar, combine: 4', 'chart-25, Jaccard, ACS, combine: 5', 'chart-25, Jaccard, Nopol, combine: 6', 'chart-25, Jaccard, SimFix, combine: 7', 'chart-25, Jaccard, TBar, combine: 8', 'chart-25, Ochiai, ACS, combine: 9', 'chart-25, Ochiai, Nopol, combine: 10', 'chart-25, Ochiai, SimFix, combine: 11', 'chart-25, Ochiai, TBar, combine: 12', 'chart-25, Tarantula, ACS, combine: 13', 'chart-25, Tarantula, Nopol, combine: 14', 'chart-25, Tarantula, SimFix, combine: 15', 'chart-25, Tarantula, TBar, combine: 16', 'chart-26, DStar, ACS, combine: 1', 'chart-26, DStar, Nopol, combine: 2', 'chart-26, DStar, SimFix, combine: 3', 'chart-26, DStar, TBar, combine: 4', 'chart-26, Jaccard, ACS, combine: 5', 'chart-26, Jaccard, Nopol, combine: 6', 'chart-26, Jaccard, SimFix, combine: 7', 'chart-26, Jaccard, TBar, combine: 8', 'chart-26, Ochiai, ACS, combine: 9', 'chart-26, Ochiai, Nopol, combine: 10', 'chart-26, Ochiai, SimFix, combine: 11', 'chart-26, Ochiai, TBar, combine: 12', 'chart-26, Tarantula, ACS, combine: 13', 'chart-26, Tarantula, Nopol, combine: 14', 'chart-26, Tarantula, SimFix, combine: 15', 'chart-26, Tarantula, TBar, combine: 16']\n",
      "416\n",
      "[0, 0, 0, 0, 0, 0, 0, 0, 0, 0, 0, 0, 0, 0, 0, 0, 0, 0, 0, 0, 0, 0, 0, 0, 0, 0, 0, 0, 0, 0, 0, 0, 0, 0, 0, 0, 0, 0, 0, 0, 0, 0, 0, 0, 0, 0, 0, 0, 0, 0, 0, 0, 0, 0, 0, 0, 0, 0, 0, 0, 0, 0, 0, 0, 0, 0, 0, 0, 0, 0, 0, 0, 0, 0, 0, 0, 0, 0, 0, 0, 0, 0, 0, 0, 0, 0, 0, 0, 0, 0, 0, 0, 0, 0, 0, 0, 0, 0, 0, 0, 0, 0, 0, 0, 0, 0, 0, 0, 0, 0, 0, 0, 0, 0, 0, 0, 0, 0, 0, 0, 0, 0, 0, 0, 0, 0, 0, 0, 0, 0, 0, 0, 0, 0, 0, 0, 0, 0, 0, 0, 0, 0, 0, 0, 0, 0, 0, 0, 0, 0, 0, 0, 0, 0, 0, 0, 0, 0, 0, 0, 0, 0, 0, 0, 0, 0, 0, 0, 0, 0, 0, 0, 0, 0, 0, 0, 0, 0, 0, 0, 0, 0, 0, 0, 0, 0, 0, 0, 0, 0, 0, 0, 0, 0, 0, 0, 0, 0, 0, 0, 0, 0, 0, 0, 0, 0, 0, 0, 0, 0, 0, 0, 0, 0, 0, 0, 0, 0, 0, 0, 0, 0, 0, 0, 0, 0, 0, 0, 0, 0, 0, 0, 0, 0, 0, 0, 0, 0, 0, 0, 0, 0, 0, 0, 0, 0, 0, 0, 0, 0, 0, 0, 0, 0, 0, 0, 0, 0, 0, 0, 0, 0, 0, 0, 0, 0, 0, 0, 0, 0, 0, 0, 0, 0, 0, 0, 0, 0, 0, 0, 0, 0, 0, 0, 0, 0, 0, 0, 0, 0, 0, 0, 0, 0, 0, 0, 0, 0, 0, 0, 0, 0, 0, 0, 0, 0, 0, 0, 0, 0, 0, 0, 0, 0, 0, 0, 0, 0, 0, 0, 0, 0, 0, 0, 0, 0, 0, 0, 0, 0, 0, 0, 0, 0, 0, 0, 0, 0, 0, 0, 0, 0, 0, 0, 0, 0, 0, 0, 0, 0, 0, 0, 0, 0, 0, 0, 0, 0, 0, 0, 0, 0, 0, 0, 0, 0, 0, 0, 0, 0, 0, 0, 0, 0, 0, 0, 0, 0, 0, 0, 0, 0, 0, 0, 0, 0, 0, 0, 0, 0, 0, 0, 0, 0, 0, 0, 0, 0, 0, 0, 0, 0, 0, 0, 0, 0, 0, 0, 0, 0, 0, 0, 0, 0, 0, 0]\n",
      "416\n"
     ]
    }
   ],
   "source": [
    "for i in range(1, bugid_num+1): #chart共有26個\n",
    "    combine = 1\n",
    "    for SBFL_index, SBFL in enumerate(SBFLlist):\n",
    "        for APR_index, APR in enumerate(APRlist):\n",
    "            data['bugid'].append(i+10000) #2024/10/22，已將bug-id編號修改，chart由10001開始到10026\n",
    "            data['combine'].append(combine)\n",
    "            combine = combine + 1\n",
    "            #print(APR_index)\n",
    "            #print(str(APR_index) + ': ' + SBFL + ', ' + APR)\n",
    "            #處理Top-1\n",
    "            if Top1[SBFL_index][i-1] == 1:\n",
    "                data['top-1'].append(1)\n",
    "            elif Top1[SBFL_index][i-1] == 0:\n",
    "                data['top-1'].append(0)\n",
    "            #處理Top-3\n",
    "            if Top3[SBFL_index][i-1] == 1:\n",
    "                data['top-3'].append(1)\n",
    "            elif Top3[SBFL_index][i-1] == 0:\n",
    "                data['top-3'].append(0)\n",
    "            #處理Top-5\n",
    "            if Top5[SBFL_index][i-1] == 1:\n",
    "                data['top-5'].append(1)\n",
    "            elif Top5[SBFL_index][i-1] == 0:\n",
    "                data['top-5'].append(0)\n",
    "            #處理Top-10\n",
    "            if Top10[SBFL_index][i-1] == 1:\n",
    "                data['top-10'].append(1)\n",
    "            elif Top10[SBFL_index][i-1] == 0:\n",
    "                data['top-10'].append(0)\n",
    "            #標示是否正確，以及label\n",
    "            if APR_result[APR_index][i-1] == 0:\n",
    "                data['是否生成(0)/正確(1, 2)'].append(0)\n",
    "                data['correct patch/lable'].append(0)\n",
    "            elif APR_result[APR_index][i-1] == 1:\n",
    "                data['是否生成(0)/正確(1, 2)'].append(1)\n",
    "                data['correct patch/lable'].append(0)\n",
    "            elif APR_result[APR_index][i-1] == 2:\n",
    "                data['是否生成(0)/正確(1, 2)'].append(2)\n",
    "                data['correct patch/lable'].append(1)\n",
    "            data['標示用，不參與訓練'].append(project_is + '-' + str(i) + ', ' + SBFL + ', ' + APR + ', combine: ' + str(combine-1))\n",
    "\n",
    "            \n",
    "            data['補充說明'].append(0)\n",
    "\n",
    "\n",
    "print(data['bugid'])\n",
    "print(len(data['bugid']))\n",
    "print(data['combine'])\n",
    "print(len(data['combine']))\n",
    "print(data['top-1'])\n",
    "print(len(data['top-1']))\n",
    "print(data['top-3'])\n",
    "print(len(data['top-3']))\n",
    "print(data['top-5'])\n",
    "print(len(data['top-5']))\n",
    "print(data['top-10'])\n",
    "print(len(data['top-10']))\n",
    "print(data['是否生成(0)/正確(1, 2)'])\n",
    "print(len(data['是否生成(0)/正確(1, 2)']))\n",
    "print(data['correct patch/lable'])\n",
    "print(len(data['correct patch/lable']))\n",
    "print(data['標示用，不參與訓練'])\n",
    "print(len(data['標示用，不參與訓練']))\n",
    "print(data['補充說明'])\n",
    "print(len(data['補充說明']))\n",
    "            "
   ]
  },
  {
   "cell_type": "code",
   "execution_count": 17,
   "metadata": {},
   "outputs": [
    {
     "name": "stdout",
     "output_type": "stream",
     "text": [
      "     bugid  combine  top-1  top-3  top-5  top-10  是否生成(0)/正確(1, 2)  \\\n",
      "0    10001        1      0      0      0       0                 0   \n",
      "1    10001        2      0      0      0       0                 0   \n",
      "2    10001        3      0      0      0       0                 2   \n",
      "3    10001        4      0      0      0       0                 2   \n",
      "4    10001        5      0      0      0       0                 0   \n",
      "..     ...      ...    ...    ...    ...     ...               ...   \n",
      "411  10026       12      0      0      0       0                 2   \n",
      "412  10026       13      0      0      0       0                 0   \n",
      "413  10026       14      0      0      0       0                 1   \n",
      "414  10026       15      0      0      0       0                 0   \n",
      "415  10026       16      0      0      0       0                 2   \n",
      "\n",
      "     correct patch/lable                                 標示用，不參與訓練  補充說明  \n",
      "0                      0           chart-1, DStar, ACS, combine: 1     0  \n",
      "1                      0         chart-1, DStar, Nopol, combine: 2     0  \n",
      "2                      1        chart-1, DStar, SimFix, combine: 3     0  \n",
      "3                      1          chart-1, DStar, TBar, combine: 4     0  \n",
      "4                      0         chart-1, Jaccard, ACS, combine: 5     0  \n",
      "..                   ...                                       ...   ...  \n",
      "411                    1       chart-26, Ochiai, TBar, combine: 12     0  \n",
      "412                    0     chart-26, Tarantula, ACS, combine: 13     0  \n",
      "413                    0   chart-26, Tarantula, Nopol, combine: 14     0  \n",
      "414                    0  chart-26, Tarantula, SimFix, combine: 15     0  \n",
      "415                    1    chart-26, Tarantula, TBar, combine: 16     0  \n",
      "\n",
      "[416 rows x 10 columns]\n"
     ]
    }
   ],
   "source": [
    "# 創建 DataFrame\n",
    "df = pd.DataFrame(data)\n",
    "print(df)"
   ]
  },
  {
   "cell_type": "code",
   "execution_count": 18,
   "metadata": {},
   "outputs": [],
   "source": [
    "import openpyxl\n",
    "\n",
    "wb = openpyxl.Workbook() #建立空的excel\n",
    "#wb = openpyxl.load_workbook('oxxo.xlsx') #開啟excel\n",
    "wb.save( create_file_name + '.xlsx')"
   ]
  },
  {
   "cell_type": "code",
   "execution_count": 19,
   "metadata": {},
   "outputs": [
    {
     "name": "stdout",
     "output_type": "stream",
     "text": [
      "資料已寫入 test_SBFL_chart.xlsx 文件中\n"
     ]
    }
   ],
   "source": [
    "# 將資料寫入 Excel 檔案\n",
    "file_name = create_file_name + '.xlsx'\n",
    "df.to_excel(file_name, index=False)\n",
    "\n",
    "print(f\"資料已寫入 {file_name} 文件中\")"
   ]
  }
 ],
 "metadata": {
  "kernelspec": {
   "display_name": "grade_environment",
   "language": "python",
   "name": "python3"
  },
  "language_info": {
   "codemirror_mode": {
    "name": "ipython",
    "version": 3
   },
   "file_extension": ".py",
   "mimetype": "text/x-python",
   "name": "python",
   "nbconvert_exporter": "python",
   "pygments_lexer": "ipython3",
   "version": "3.8.19"
  }
 },
 "nbformat": 4,
 "nbformat_minor": 2
}
