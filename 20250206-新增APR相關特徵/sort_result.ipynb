{
 "cells": [
  {
   "cell_type": "markdown",
   "metadata": {},
   "source": [
    "將輸出的結果整理成excel，方便做統計。  \n",
    "下列為設定資料相關變數"
   ]
  },
  {
   "cell_type": "code",
   "execution_count": 191,
   "metadata": {},
   "outputs": [],
   "source": [
    "# SBFL使用的數量\n",
    "SBFL_count = 47\n",
    "\n",
    "# APR使用的數量\n",
    "APR_count = 7\n",
    "\n",
    "# 組合數量\n",
    "combine_count = SBFL_count * APR_count\n",
    "\n",
    "# Project名稱\n",
    "Project_name = 'chart'\n",
    "\n",
    "# 使用的project共有多少\n",
    "Project_num = 26\n",
    "\n",
    "# 儲存的excel名稱。\n",
    "# excel1 = Project_name + '分頁排名結果_no_sus.xlsx'\n",
    "excel1 = Project_name + '分頁排名結果.xlsx'\n",
    "# excel2 = Project_name + '排名結果_no_sus.xlsx'\n",
    "excel2 = Project_name + '排名結果.xlsx'\n",
    "\n",
    "# 排名結果檔案路徑\n",
    "file_path1 = Project_name + '/sort_result/Chart_f3.rn_in_Chart_result.txt'\n",
    "\n",
    "# 原始資料路徑\n",
    "file_path2 = Project_name + '/test_SBFL_chart_normalize.xlsx'"
   ]
  },
  {
   "cell_type": "markdown",
   "metadata": {},
   "source": [
    "將Ranklib的排名結果讀取進來。"
   ]
  },
  {
   "cell_type": "code",
   "execution_count": 192,
   "metadata": {},
   "outputs": [
    {
     "name": "stdout",
     "output_type": "stream",
     "text": [
      "8554\n"
     ]
    }
   ],
   "source": [
    "# 定義檔案路徑\n",
    "#file_path1 = 'closure/sort_result/Chart_one_top_f1.rn_in_closure_result.txt'\n",
    "\n",
    "# 初始化一個空列表\n",
    "Rank_result = []\n",
    "\n",
    "# 讀取檔案\n",
    "with open(file_path1, 'r', encoding='utf-8') as file:\n",
    "    for line in file:\n",
    "        # 去除行尾的換行符號\n",
    "        stripped_line = line.strip()\n",
    "        # 將行以空格分割成列表\n",
    "        split_line = stripped_line.split(' ')\n",
    "        # 將分割後的列表加入到主列表\n",
    "        Rank_result.append(split_line)\n",
    "\n",
    "# 逐行輸出結果。\n",
    "# 第6個index表示組合編號。\n",
    "# 第7個index表示排名。\n",
    "# 第8個index表示模型給予的排名分數\n",
    "# for line in Rank_result:\n",
    "#     print(line)\n",
    "\n",
    "# print(Rank_result[0][6])\n",
    "# print(Rank_result[0][7])\n",
    "# print(Rank_result[0][8])\n",
    "\n",
    "# 所有的排名數量\n",
    "print(len(Rank_result))\n"
   ]
  },
  {
   "cell_type": "markdown",
   "metadata": {},
   "source": [
    "讀取原始資料的excel"
   ]
  },
  {
   "cell_type": "code",
   "execution_count": 193,
   "metadata": {},
   "outputs": [],
   "source": [
    "import pandas as pd\n",
    "\n",
    "# 定義檔案路徑\n",
    "# file_path = 'closure/test_SBFL_closure_normalize.xlsx'\n",
    "\n",
    "# 讀取 Excel 檔案\n",
    "df = pd.read_excel(file_path2)\n",
    "\n",
    "# 將每一列轉換成二維列表\n",
    "data = df.values.tolist()\n",
    "\n",
    "# 輸出結果\n",
    "# for row in data:\n",
    "#     print(row)\n",
    "\n",
    "# 第1個index表示組合編號。\n",
    "# print(data[0][1])\n",
    "# print(data[1][1])"
   ]
  },
  {
   "cell_type": "markdown",
   "metadata": {},
   "source": [
    "excel資料形式"
   ]
  },
  {
   "cell_type": "code",
   "execution_count": 194,
   "metadata": {},
   "outputs": [
    {
     "name": "stdout",
     "output_type": "stream",
     "text": [
      "現在bug_id是 : 1\n",
      "現在bug_id是 : 2\n",
      "現在bug_id是 : 3\n",
      "現在bug_id是 : 4\n",
      "現在bug_id是 : 5\n",
      "現在bug_id是 : 6\n",
      "現在bug_id是 : 7\n",
      "現在bug_id是 : 8\n",
      "現在bug_id是 : 9\n",
      "現在bug_id是 : 10\n",
      "現在bug_id是 : 11\n",
      "現在bug_id是 : 12\n",
      "現在bug_id是 : 13\n",
      "現在bug_id是 : 14\n",
      "現在bug_id是 : 15\n",
      "現在bug_id是 : 16\n",
      "現在bug_id是 : 17\n",
      "現在bug_id是 : 18\n",
      "現在bug_id是 : 19\n",
      "現在bug_id是 : 20\n",
      "現在bug_id是 : 21\n",
      "現在bug_id是 : 22\n",
      "現在bug_id是 : 23\n",
      "現在bug_id是 : 24\n",
      "現在bug_id是 : 25\n",
      "現在bug_id是 : 26\n",
      "結束\n"
     ]
    }
   ],
   "source": [
    "# 總共多少筆資料\n",
    "data_len = len(Rank_result)\n",
    "\n",
    "# 紀錄目前處理到排名的第幾個index。\n",
    "data_index = 0\n",
    "\n",
    "# 紀錄目前處理到哪一個bug_id，減1是為了符合list從0開始的原因。\n",
    "bug_id_index = 1 - 1\n",
    "\n",
    "#儲存排序後的結果\n",
    "sort = []\n",
    "\n",
    "same_data = []\n",
    "\n",
    "for project_index in range(0,Project_num):\n",
    "    # 注意: 因為list問題，project_index = 0，表示bug_id為1的情況。\n",
    "    print(\"現在bug_id是 :\", project_index + 1)\n",
    "    for combine_number in range(0,combine_count):\n",
    "\n",
    "        # 表示目前的bug_id，在原始資料中，從哪個編號開始計算。\n",
    "        # 例如Chart-1，從0開始，Chart-2從329開始。\n",
    "        bug_id_index_to_data_list_index = bug_id_index * combine_count\n",
    "\n",
    "        # 表示目前讀取到排名結果的SBFLxAPR是哪個編號。\n",
    "        current_combine_id = int(Rank_result[data_index][6])\n",
    "\n",
    "        # 抓取這個排名對應到的原始資料。\n",
    "        same_data = data[bug_id_index_to_data_list_index + current_combine_id - 1]\n",
    "\n",
    "        #加上排名以及Ranklib給的分數\n",
    "        same_data.append(Rank_result[data_index][7])\n",
    "        same_data.append(Rank_result[data_index][8])\n",
    "        #print(same_data)\n",
    "\n",
    "        # 加到這個list中。\n",
    "        sort.append(same_data)\n",
    "\n",
    "\n",
    "        # 處理下一個排名\n",
    "        data_index += 1\n",
    "\n",
    "\n",
    "    # 處理下一個bug_id\n",
    "    bug_id_index += 1\n",
    "\n",
    "print(\"結束\")\n",
    "\n",
    "# for row in sort:\n",
    "#     print(row)\n",
    "\n",
    "        "
   ]
  },
  {
   "cell_type": "markdown",
   "metadata": {},
   "source": [
    "儲存到excel，分為每個都分頁與不分頁。"
   ]
  },
  {
   "cell_type": "code",
   "execution_count": 195,
   "metadata": {},
   "outputs": [
    {
     "name": "stdout",
     "output_type": "stream",
     "text": [
      "資料已成功寫入 chart分頁排名結果.xlsx\n"
     ]
    }
   ],
   "source": [
    "# 這是每個bug_id都分頁的\n",
    "\n",
    "# 定義每個分頁的行數\n",
    "rows_per_sheet = combine_count\n",
    "\n",
    "# 定義輸出檔案路徑\n",
    "output_file_path = excel1\n",
    "\n",
    "# 創建一個 Excel writer 物件\n",
    "with pd.ExcelWriter(output_file_path, engine='openpyxl') as writer:\n",
    "    # 將資料分成每 329 列\n",
    "    for i in range(0, len(sort), rows_per_sheet):\n",
    "        # 取得當前的 329 列資料\n",
    "        chunk = sort[i:i + rows_per_sheet]\n",
    "        # 計算分頁名稱\n",
    "        sheet_name = f'Closure-{(i // rows_per_sheet) + 1}'\n",
    "        # 將當前的資料寫入新的分頁\n",
    "        df = pd.DataFrame(chunk)\n",
    "        df.to_excel(writer, sheet_name=sheet_name, index=False, header=False)\n",
    "\n",
    "print(f\"資料已成功寫入 {output_file_path}\")"
   ]
  },
  {
   "cell_type": "code",
   "execution_count": 196,
   "metadata": {},
   "outputs": [
    {
     "name": "stdout",
     "output_type": "stream",
     "text": [
      "資料已成功寫入 chart排名結果.xlsx\n"
     ]
    }
   ],
   "source": [
    "# 這是不分頁的\n",
    "\n",
    "# 定義輸出檔案路徑\n",
    "output_file_path = excel2\n",
    "\n",
    "# 將所有資料轉換為 DataFrame\n",
    "df = pd.DataFrame(sort)\n",
    "\n",
    "# 將 DataFrame 寫入 Excel 的單一分頁\n",
    "df.to_excel(output_file_path, sheet_name='Closure', index=False, header=False)\n",
    "\n",
    "print(f\"資料已成功寫入 {output_file_path}\")"
   ]
  }
 ],
 "metadata": {
  "kernelspec": {
   "display_name": "grade_environment",
   "language": "python",
   "name": "python3"
  },
  "language_info": {
   "codemirror_mode": {
    "name": "ipython",
    "version": 3
   },
   "file_extension": ".py",
   "mimetype": "text/x-python",
   "name": "python",
   "nbconvert_exporter": "python",
   "pygments_lexer": "ipython3",
   "version": "3.8.19"
  }
 },
 "nbformat": 4,
 "nbformat_minor": 2
}
