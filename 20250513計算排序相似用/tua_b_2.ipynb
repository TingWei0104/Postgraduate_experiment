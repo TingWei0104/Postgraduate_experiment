{
 "cells": [
  {
   "cell_type": "code",
   "execution_count": 29,
   "id": "fefa4621",
   "metadata": {},
   "outputs": [
    {
     "name": "stdout",
     "output_type": "stream",
     "text": [
      "Kendall tua_b套件相關係數:0.31\n",
      "==============================================\n",
      "總數對:1225\n",
      "和諧數對:283\n",
      "不和諧數對:89\n",
      "n1_size:[40, 8]\n",
      "n1:808\n",
      "n2_size:[21, 12, 3, 3, 2, 2, 2]\n",
      "n2:285\n",
      "Kendall tau_b公式相關係數:0.31\n"
     ]
    }
   ],
   "source": [
    "# -*- coding: UTF-8 -*-\n",
    "%matplotlib inline\n",
    "import pandas as pd\n",
    "import matplotlib.pyplot as plt\n",
    "import math\n",
    "from scipy import stats\n",
    "\n",
    "# 計算相似度使用\n",
    "\n",
    "X=pd.Series([ 0, 0, 0, 0, 0, 0, 0, 0, 0, 1, 0, 2, 0, 1, 1, 3, 0, 0, 0, 1, 0, 0, 1, 0, 0, 0, 0, 0, 0, 1, 0, 0, 0, 0, 0, 0, 0, 1, 0, 0, 0, 0, 0, 0, 1, 0, 0, 0, 0, 0 ])\n",
    "Y=pd.Series([ 1, 0, 0, 0, 0, 0, 0, 0, 1, 17, 9, 3, 1, 1, 0, 8, 0, 7, 0, 2, 11, 1, 2, 1, 0, 7, 0, 1, 1, 5, 17, 6, 0, 0, 1, 13, 1, 6, 2, 0, 0, 0, 0, 0, 1, 0, 0, 1, 7, 3 ])\n",
    "tau_b, p_value = stats.kendalltau(X, Y, variant='b')\n",
    "print(\"Kendall tua_b套件相關係數:\"+str(round(tau_b,3)))\n",
    "print(\"==============================================\")\n",
    "cn2=(len(X)*(len(Y)-1))/2\n",
    "print(\"總數對:\"+str(round(cn2)))\n",
    "concordant=0\n",
    "discordant=0\n",
    "n1_size=[]\n",
    "n2_size=[]\n",
    "n1=0\n",
    "n2=0\n",
    "for i in range(len(X)):\n",
    "    for j in range(len(X)):\n",
    "        if i<j:\n",
    "            if (X[i]<X[j] and Y[i]<Y[j]) or (X[i]>X[j] and Y[i]>Y[j]):\n",
    "                concordant+=1\n",
    "            if (X[i]>X[j] and Y[i]<Y[j]) or (X[i]<X[j] and Y[i]>Y[j]):\n",
    "                discordant+=1\n",
    "print(\"和諧數對:\"+str(concordant))\n",
    "print(\"不和諧數對:\"+str(discordant))\n",
    "for i in X.value_counts():\n",
    "    if i>1:\n",
    "         n1_size.append(i)\n",
    "print(\"n1_size:\"+str(n1_size))\n",
    "for i in n1_size:\n",
    "    n1+=int(i*(i-1)/2)\n",
    "print(\"n1:\"+str(n1))\n",
    "for j in Y.value_counts():\n",
    "    if j>1:\n",
    "         n2_size.append(j)\n",
    "print(\"n2_size:\"+str(n2_size))\n",
    "for j in n2_size:\n",
    "    n2+=int(j*(j-1)/2)\n",
    "print(\"n2:\"+str(n2))\n",
    "print(\"Kendall tau_b公式相關係數:\"+str(round((concordant-discordant)/(math.sqrt(cn2-n1)*math.sqrt(cn2-n2)),3)))"
   ]
  }
 ],
 "metadata": {
  "kernelspec": {
   "display_name": "Python 3",
   "language": "python",
   "name": "python3"
  },
  "language_info": {
   "codemirror_mode": {
    "name": "ipython",
    "version": 3
   },
   "file_extension": ".py",
   "mimetype": "text/x-python",
   "name": "python",
   "nbconvert_exporter": "python",
   "pygments_lexer": "ipython3",
   "version": "3.8.19"
  }
 },
 "nbformat": 4,
 "nbformat_minor": 5
}
