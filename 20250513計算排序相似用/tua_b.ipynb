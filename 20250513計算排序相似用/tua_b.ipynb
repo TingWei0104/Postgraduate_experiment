{
 "cells": [
  {
   "cell_type": "code",
   "execution_count": null,
   "id": "fefa4621",
   "metadata": {},
   "outputs": [
    {
     "name": "stdout",
     "output_type": "stream",
     "text": [
      "Kendall tua_b套件相關係數:0.41\n",
      "==============================================\n",
      "總數對:1225\n",
      "和諧數對:414\n",
      "不和諧數對:107\n",
      "n1_size:[18, 7, 5, 3, 3, 3, 2, 2, 2, 2]\n",
      "n1:197\n",
      "n2_size:[37, 5, 2, 2, 2]\n",
      "n2:679\n",
      "Kendall tau_b公式相關係數:0.41\n"
     ]
    }
   ],
   "source": [
    "# -*- coding: UTF-8 -*-\n",
    "%matplotlib inline\n",
    "import pandas as pd\n",
    "import matplotlib.pyplot as plt\n",
    "import math\n",
    "from scipy import stats\n",
    "# X=pd.Series([1, 3, 5, 7, 9, 11, 13, 15, 15, 15])\n",
    "# Y=pd.Series([2, 4, 6, 8, 8, 14,12,16,18,20])\n",
    "X=pd.Series( [ 0, 2, 0, 0, 0, 0, 0, 0, 2, 11, 5, 10, 0, 2, 2, 14, 5, 2, 4, 3, 1, 4, 11, 0, 1, 1, 1, 0, 15, 14, 7, 1, 0, 0, 6, 2, 6, 10, 0, 2, 0, 0, 3, 0, 4, 0, 0, 9, 3, 5 ])\n",
    "Y=pd.Series([ 21, 6, 1, 9, 2, 2, 1, 1, 11, 234, 70, 38, 1, 18, 2, 43, 4, 64, 14, 14, 103, 25, 29, 5, 1, 38, 7, 11, 37, 40, 149, 75, 4, 13, 35, 136, 37, 59, 33, 14, 10, 1, 10, 2, 12, 1, 2, 60, 90, 21 ])\n",
    "tau_b, p_value = stats.kendalltau(X, Y, variant='b')\n",
    "print(\"Kendall tua_b套件相關係數:\"+str(round(tau_b,3)))\n",
    "print(\"==============================================\")\n",
    "cn2=(len(X)*(len(Y)-1))/2\n",
    "print(\"總數對:\"+str(round(cn2)))\n",
    "concordant=0\n",
    "discordant=0\n",
    "n1_size=[]\n",
    "n2_size=[]\n",
    "n1=0\n",
    "n2=0\n",
    "for i in range(len(X)):\n",
    "    for j in range(len(X)):\n",
    "        if i<j:\n",
    "            if (X[i]<X[j] and Y[i]<Y[j]) or (X[i]>X[j] and Y[i]>Y[j]):\n",
    "                concordant+=1\n",
    "            if (X[i]>X[j] and Y[i]<Y[j]) or (X[i]<X[j] and Y[i]>Y[j]):\n",
    "                discordant+=1\n",
    "print(\"和諧數對:\"+str(concordant))\n",
    "print(\"不和諧數對:\"+str(discordant))\n",
    "for i in X.value_counts():\n",
    "    if i>1:\n",
    "         n1_size.append(i)\n",
    "print(\"n1_size:\"+str(n1_size))\n",
    "for i in n1_size:\n",
    "    n1+=int(i*(i-1)/2)\n",
    "print(\"n1:\"+str(n1))\n",
    "for j in Y.value_counts():\n",
    "    if j>1:\n",
    "         n2_size.append(j)\n",
    "print(\"n2_size:\"+str(n2_size))\n",
    "for j in n2_size:\n",
    "    n2+=int(j*(j-1)/2)\n",
    "print(\"n2:\"+str(n2))\n",
    "print(\"Kendall tau_b公式相關係數:\"+str(round((concordant-discordant)/(math.sqrt(cn2-n1)*math.sqrt(cn2-n2)),3)))"
   ]
  }
 ],
 "metadata": {
  "kernelspec": {
   "display_name": "grade_environment",
   "language": "python",
   "name": "python3"
  },
  "language_info": {
   "codemirror_mode": {
    "name": "ipython",
    "version": 3
   },
   "file_extension": ".py",
   "mimetype": "text/x-python",
   "name": "python",
   "nbconvert_exporter": "python",
   "pygments_lexer": "ipython3",
   "version": "3.8.19"
  }
 },
 "nbformat": 4,
 "nbformat_minor": 5
}
