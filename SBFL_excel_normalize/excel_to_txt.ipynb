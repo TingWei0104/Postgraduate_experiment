{
 "cells": [
  {
   "cell_type": "code",
   "execution_count": 3,
   "metadata": {},
   "outputs": [],
   "source": [
    "import pandas as pd\n",
    "import os\n",
    "\n",
    "excel_list = ['test_SBFL_chart_normalize','test_SBFL_closure_normalize','test_SBFL_math_normalize','test_SBFL_time_normalize','test_SBFL_lang_normalize']\n",
    "file_name_list = ['SBFL_chart','SBFL_closure','SBFL_math','SBFL_time','SBFL_lang']\n",
    "\n",
    "for i, j in zip(excel_list, file_name_list):\n",
    "    df = pd.read_excel( i + '.xlsx', engine='openpyxl', sheet_name='Sheet1') #輸入要用的project excel是甚麼\n",
    "    txt_file_name = j #輸入要儲存的檔案名稱\n",
    "\n",
    "    open(txt_file_name + '.txt', 'w').close()\n",
    "\n",
    "    for i in range(1,len(df)+1): #取出總共需要多少的\n",
    "        get_row_data = df.loc[i-1].values #取出目前row的資料\n",
    "\n",
    "        #根據LTR所需要的格式做調整\n",
    "        #將excel中的 'correct patch/lable' 作為label在前面顯示，因此取get_row_data[7]。\n",
    "        LTR_use_text = str(get_row_data[7]) + ' qid:' +  str(get_row_data[0]) + ' 1:' + str(get_row_data[2]) + ' 2:' + str(get_row_data[3]) + ' 3:' + str(get_row_data[4]) + ' 4:' + str(get_row_data[5]) + ' 5:' + str(get_row_data[6]) + ' #' + str(get_row_data[8]) + '\\n'\n",
    "\n",
    "        #打開txt將內容輸入到txt中。\n",
    "        #'a'表示往後寫不覆蓋\n",
    "        f = open(txt_file_name + '.txt', 'a')\n",
    "        f.write(LTR_use_text)\n",
    "\n",
    "        #print(LTR_use_text)\n",
    "        f.close()"
   ]
  }
 ],
 "metadata": {
  "kernelspec": {
   "display_name": "grade_environment",
   "language": "python",
   "name": "python3"
  },
  "language_info": {
   "codemirror_mode": {
    "name": "ipython",
    "version": 3
   },
   "file_extension": ".py",
   "mimetype": "text/x-python",
   "name": "python",
   "nbconvert_exporter": "python",
   "pygments_lexer": "ipython3",
   "version": "3.8.19"
  }
 },
 "nbformat": 4,
 "nbformat_minor": 2
}
