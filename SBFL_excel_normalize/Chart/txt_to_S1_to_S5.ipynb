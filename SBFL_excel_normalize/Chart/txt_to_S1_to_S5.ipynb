{
 "cells": [
  {
   "cell_type": "code",
   "execution_count": 2,
   "metadata": {},
   "outputs": [],
   "source": [
    "# 定義檔案名稱\n",
    "input_file = \"SBFL_chart.txt\"\n",
    "output_files = [\"S1.txt\", \"S2.txt\", \"S3.txt\", \"S4.txt\", \"S5.txt\"]\n",
    "\n",
    "# 讀取檔案內容\n",
    "with open(input_file, 'r') as file:\n",
    "    lines = file.readlines()\n"
   ]
  },
  {
   "cell_type": "code",
   "execution_count": 3,
   "metadata": {},
   "outputs": [],
   "source": [
    "num_lines_per_file = [5,5,5,5,6] #輸入每個project平分成5個，每個會有多少個bug-id，如Cahrt共26個，因此分成5,5,5,5,6。\n",
    "bug_id_combine_number = 16 #每個bug-id有多少的組合。"
   ]
  },
  {
   "cell_type": "code",
   "execution_count": 4,
   "metadata": {},
   "outputs": [
    {
     "name": "stdout",
     "output_type": "stream",
     "text": [
      "檔案已成功分割並保存為 S1.txt 到 S5.txt\n"
     ]
    }
   ],
   "source": [
    "# 將行分配到不同的檔案\n",
    "for i in range(len(output_files)):\n",
    "    start_index = i * num_lines_per_file[i] * bug_id_combine_number #每個bug-id有16個\n",
    "    end_index = start_index + num_lines_per_file[i] * bug_id_combine_number\n",
    "    with open(output_files[i], 'w') as out_file:\n",
    "        out_file.writelines(lines[start_index:end_index])\n",
    "\n",
    "print(\"檔案已成功分割並保存為 S1.txt 到 S5.txt\")"
   ]
  }
 ],
 "metadata": {
  "kernelspec": {
   "display_name": "grade_environment",
   "language": "python",
   "name": "python3"
  },
  "language_info": {
   "codemirror_mode": {
    "name": "ipython",
    "version": 3
   },
   "file_extension": ".py",
   "mimetype": "text/x-python",
   "name": "python",
   "nbconvert_exporter": "python",
   "pygments_lexer": "ipython3",
   "version": "3.8.19"
  }
 },
 "nbformat": 4,
 "nbformat_minor": 2
}
